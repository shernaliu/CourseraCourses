{
 "cells": [
  {
   "cell_type": "markdown",
   "id": "2d881500",
   "metadata": {},
   "source": [
    "### Example: Creating Instances from Data"
   ]
  },
  {
   "cell_type": "code",
   "execution_count": 13,
   "id": "9bd203ed",
   "metadata": {},
   "outputs": [
    {
     "name": "stdout",
     "output_type": "stream",
     "text": [
      "5\n"
     ]
    }
   ],
   "source": [
    "cityNames = ['Detroit', 'Ann Arbor', 'Pittsburgh', 'Mars', 'New York']\n",
    "populations = [680250, 117070, 304391, 1683, 8406000]\n",
    "states = ['MI', 'MI', 'PA', 'PA', 'NY']\n",
    "\n",
    "city_tuples = zip(cityNames, populations, states)\n",
    "\n",
    "class City:\n",
    "    def __init__(self, n, p, s):\n",
    "        self.name = n\n",
    "        self.population = p\n",
    "        self.state = s\n",
    "    def __str__(self):\n",
    "        return '{}, {} (pop: {})'.format(self.name, self.state, self.population)\n",
    "    \n",
    "cities = []\n",
    "\n",
    "# method 1\n",
    "# for city_tup in city_tuples:\n",
    "#     name, pop, state = city_tup\n",
    "#     city = City(name, pop, state)\n",
    "#     cities.append(city)\n",
    "# print(len(cities))\n",
    "\n",
    "# method 2 - list comprehension way\n",
    "# cities = [City(n, p, s) for (n, p, s) in city_tuples]\n",
    "# print(len(cities))\n",
    "\n",
    "# method 3\n",
    "# *t takes this tuple and expands it into a list of arguments\n",
    "cities = [City(*t) for t in city_tuples]\n",
    "print(len(cities))"
   ]
  },
  {
   "cell_type": "markdown",
   "id": "d0b7dab1",
   "metadata": {},
   "source": [
    "### Converting an Object to a String\n",
    "\n",
    "`__str__`"
   ]
  },
  {
   "cell_type": "code",
   "execution_count": 14,
   "id": "a0129715",
   "metadata": {},
   "outputs": [
    {
     "name": "stdout",
     "output_type": "stream",
     "text": [
      "Point(7, 6)\n"
     ]
    }
   ],
   "source": [
    "class Point:\n",
    "    \"\"\" Point class for representing and manipulating x,y coordinates. \"\"\"\n",
    "\n",
    "    def __init__(self, initX, initY):\n",
    "\n",
    "        self.x = initX\n",
    "        self.y = initY\n",
    "\n",
    "    def getX(self):\n",
    "        return self.x\n",
    "\n",
    "    def getY(self):\n",
    "        return self.y\n",
    "    \n",
    "    def distanceFromOrigin(self):\n",
    "        return ((self.x ** 2) + (self.y ** 2)) ** 0.5\n",
    "\n",
    "    def __str__(self):\n",
    "        return 'Point({}, {})'.format(self.x, self.y)\n",
    "    \n",
    "p = Point(7, 6)\n",
    "print(p)\n"
   ]
  },
  {
   "cell_type": "markdown",
   "id": "06b7d020",
   "metadata": {},
   "source": [
    "### Special (dunderscore) Methods\n"
   ]
  },
  {
   "cell_type": "code",
   "execution_count": 17,
   "id": "0f355f93",
   "metadata": {},
   "outputs": [
    {
     "name": "stdout",
     "output_type": "stream",
     "text": [
      "Point(-5, 10)\n",
      "Point(15, 20)\n",
      "Point(10, 30)\n",
      "Point(-20, -10)\n"
     ]
    }
   ],
   "source": [
    "class Point:\n",
    "    \"\"\" Point class for representing and manipulating x,y coordinates. \"\"\"\n",
    "\n",
    "    def __init__(self, initX, initY):\n",
    "\n",
    "        self.x = initX\n",
    "        self.y = initY\n",
    "\n",
    "    def __str__(self):\n",
    "        return 'Point({}, {})'.format(self.x, self.y)\n",
    "    \n",
    "    def __add__(self, otherPoint):\n",
    "        return Point(self.x + otherPoint.x,\n",
    "                    self.y + otherPoint.y)\n",
    "    \n",
    "    def __sub__(self, otherPoint):\n",
    "        return Point(self.x - otherPoint.x,\n",
    "                    self.y - otherPoint.y)\n",
    "    \n",
    "p1 = Point(-5, 10)\n",
    "p2 = Point(15, 20)\n",
    "print(p1)\n",
    "print(p2)\n",
    "print(p1 + p2)\n",
    "print(p1 - p2)"
   ]
  },
  {
   "cell_type": "markdown",
   "id": "244b05f5",
   "metadata": {},
   "source": [
    "### Instances as Return Values\n"
   ]
  },
  {
   "cell_type": "code",
   "execution_count": 20,
   "id": "24592b80",
   "metadata": {},
   "outputs": [
    {
     "name": "stdout",
     "output_type": "stream",
     "text": [
      "x = 4.0, y = 8.0\n",
      "4.0\n",
      "8.0\n"
     ]
    }
   ],
   "source": [
    "class Point:\n",
    "    \"\"\" Point class for representing and manipulating x,y coordinates. \"\"\"\n",
    "\n",
    "    def __init__(self, initX, initY):\n",
    "\n",
    "        self.x = initX\n",
    "        self.y = initY\n",
    "\n",
    "    def getX(self):\n",
    "        return self.x\n",
    "\n",
    "    def getY(self):\n",
    "        return self.y\n",
    "    \n",
    "    def __str__(self):\n",
    "        return 'Point({}, {})'.format(self.x, self.y)\n",
    "    \n",
    "    def distanceFromOrigin(self):\n",
    "        return ((self.x ** 2) + (self.y ** 2)) ** 0.5\n",
    "    \n",
    "    def halfway(self, target):\n",
    "        mx = (self.x + target.x) / 2\n",
    "        my = (self.y + target.y) / 2\n",
    "        return Point(mx, my)\n",
    "    \n",
    "    def __str__(self):\n",
    "        return \"x = {}, y = {}\".format(self.x, self.y)\n",
    "    \n",
    "p = Point(3, 4)\n",
    "q = Point(5, 12)\n",
    "mid = p.halfway(q) # should return a new Point that is halfway between p and q\n",
    "print(mid)\n",
    "print(mid.getX())\n",
    "print(mid.getY())"
   ]
  },
  {
   "cell_type": "markdown",
   "id": "3d62a9fc",
   "metadata": {},
   "source": [
    "### Sorting Lists of Instances"
   ]
  },
  {
   "cell_type": "code",
   "execution_count": 5,
   "id": "fdae3f19",
   "metadata": {},
   "outputs": [
    {
     "name": "stdout",
     "output_type": "stream",
     "text": [
      "Apple\n",
      "Cherry\n",
      "Blueberry\n",
      "Apple\n",
      "Cherry\n",
      "Blueberry\n"
     ]
    }
   ],
   "source": [
    "class Fruit():\n",
    "    def __init__(self, name, price):\n",
    "        self.name = name\n",
    "        self.price = price\n",
    "    \n",
    "    def sort_priority(self):\n",
    "        return self.price\n",
    "\n",
    "L = [\n",
    "    Fruit('Cherry', 10),\n",
    "    Fruit('Apple', 5),\n",
    "    Fruit('Blueberry', 20)\n",
    "]\n",
    "\n",
    "# For every fruit instance in L, call sort_priority and sort by this key\n",
    "for f in sorted(L, key=Fruit.sort_priority):\n",
    "    print(f.name)\n",
    "    \n",
    "# Another way: Using lambda function, call sort_priority on every fruit instance x\n",
    "for f in sorted(L, key=lambda x : x.sort_priority()):\n",
    "    print(f.name)"
   ]
  },
  {
   "cell_type": "markdown",
   "id": "d4af2c5e",
   "metadata": {},
   "source": [
    "### Class Variables and Instance Variables\n"
   ]
  },
  {
   "cell_type": "code",
   "execution_count": 6,
   "id": "9ed39a93",
   "metadata": {},
   "outputs": [
    {
     "name": "stdout",
     "output_type": "stream",
     "text": [
      "4\n",
      "3 *\n",
      "2\n",
      "1\n",
      "01234\n",
      "\n",
      "3\n",
      "2  *\n",
      "1\n",
      "0\n",
      "9\n",
      "8\n",
      "7\n",
      "6\n",
      "5\n",
      "4\n",
      "3\n",
      "2\n",
      "1\n",
      "01234567890123\n"
     ]
    }
   ],
   "source": [
    "class Point:\n",
    "    \"\"\" Point class for representing and manipulating x,y coordinates. \"\"\"\n",
    "\n",
    "    printed_rep = \"*\"\n",
    "\n",
    "    def __init__(self, initX, initY):\n",
    "\n",
    "        self.x = initX\n",
    "        self.y = initY\n",
    "\n",
    "    def graph(self):\n",
    "        rows = []\n",
    "        size = max(int(self.x), int(self.y)) + 2\n",
    "        for j in range(size-1) :\n",
    "            if (j+1) == int(self.y):\n",
    "                special_row = str((j+1) % 10) + (\" \"*(int(self.x) -1)) + self.printed_rep\n",
    "                rows.append(special_row)\n",
    "            else:\n",
    "                rows.append(str((j+1) % 10))\n",
    "        rows.reverse()  # put higher values of y first\n",
    "        x_axis = \"\"\n",
    "        for i in range(size):\n",
    "            x_axis += str(i % 10)\n",
    "        rows.append(x_axis)\n",
    "\n",
    "        return \"\\n\".join(rows)\n",
    "\n",
    "\n",
    "p1 = Point(2, 3)\n",
    "p2 = Point(3, 12)\n",
    "print(p1.graph())\n",
    "print()\n",
    "print(p2.graph())\n"
   ]
  },
  {
   "cell_type": "markdown",
   "id": "9f09b7e6",
   "metadata": {},
   "source": [
    "### A Tamagotchi Game"
   ]
  },
  {
   "cell_type": "code",
   "execution_count": 13,
   "id": "79900bc5",
   "metadata": {},
   "outputs": [],
   "source": [
    "from random import randrange\n",
    "\n",
    "class Pet():\n",
    "    boredom_decrement = 4\n",
    "    hunger_decrement = 6\n",
    "    boredom_threshold = 5\n",
    "    hunger_threshold = 10\n",
    "    sounds = ['Meep']\n",
    "    def __init__(self, name = \"Kitty\"):\n",
    "        self.name = name\n",
    "        self.hunger = randrange(self.hunger_threshold)\n",
    "        self.boredom = randrange(self.boredom_threshold)\n",
    "        self.sounds = self.sounds[:]  # copy the class attribute, so that when we make changes to it, we won't affect the other Pets in the class\n",
    "\n",
    "    def clock_tick(self):\n",
    "        self.boredom += 1\n",
    "        self.hunger += 1\n",
    "\n",
    "    def mood(self):\n",
    "        if self.hunger <= self.hunger_threshold and self.boredom <= self.boredom_threshold:\n",
    "            return \"happy\"\n",
    "        elif self.hunger > self.hunger_threshold:\n",
    "            return \"hungry\"\n",
    "        else:\n",
    "            return \"bored\"\n",
    "\n",
    "    def __str__(self):\n",
    "        state = \"     I'm \" + self.name + \". \"\n",
    "        state += \" I feel \" + self.mood() + \". \"\n",
    "        # state += \"Hunger {} Boredom {} Words {}\".format(self.hunger, self.boredom, self.sounds)\n",
    "        return state\n",
    "\n",
    "    def hi(self):\n",
    "        print(self.sounds[randrange(len(self.sounds))])\n",
    "        self.reduce_boredom()\n",
    "\n",
    "    def teach(self, word):\n",
    "        self.sounds.append(word)\n",
    "        self.reduce_boredom()\n",
    "\n",
    "    def feed(self):\n",
    "        self.reduce_hunger()\n",
    "\n",
    "    def reduce_hunger(self):\n",
    "        self.hunger = max(0, self.hunger - self.hunger_decrement)\n",
    "\n",
    "    def reduce_boredom(self):\n",
    "        self.boredom = max(0, self.boredom - self.boredom_decrement)\n"
   ]
  },
  {
   "cell_type": "code",
   "execution_count": 17,
   "id": "f8022998",
   "metadata": {},
   "outputs": [
    {
     "name": "stdout",
     "output_type": "stream",
     "text": [
      "     I'm Mimi.  I feel happy. \n",
      "     I'm Mimi.  I feel happy. \n",
      "     I'm Mimi.  I feel happy. \n",
      "     I'm Mimi.  I feel happy. \n",
      "     I'm Mimi.  I feel happy. \n",
      "     I'm Mimi.  I feel bored. \n",
      "     I'm Mimi.  I feel bored. \n",
      "     I'm Mimi.  I feel bored. \n",
      "     I'm Mimi.  I feel bored. \n",
      "     I'm Mimi.  I feel bored. \n",
      "     I'm Mimi.  I feel hungry. \n",
      "Meep\n",
      "Meep\n",
      "Meep\n",
      "*fart*\n",
      "Meep\n",
      "*fart*\n",
      "*fart*\n",
      "*fart*\n",
      "*fart*\n",
      "Meep\n",
      "*fart*\n",
      "     I'm Mimi.  I feel happy. \n"
     ]
    }
   ],
   "source": [
    "p1 = Pet(\"Mimi\")\n",
    "print(p1)\n",
    "for i in range(10):\n",
    "    p1.clock_tick()\n",
    "    print(p1)\n",
    "p1.feed()\n",
    "p1.hi()\n",
    "p1.teach(\"*fart*\")\n",
    "for i in range(10):\n",
    "    p1.hi()\n",
    "print(p1)\n"
   ]
  },
  {
   "cell_type": "code",
   "execution_count": null,
   "id": "3496238c",
   "metadata": {},
   "outputs": [],
   "source": [
    "import sys\n",
    "# sys.setExecutionLimit(60000)\n",
    "\n",
    "def whichone(petlist, name):\n",
    "    for pet in petlist:\n",
    "        if pet.name == name:\n",
    "            return pet\n",
    "    return None # no pet matched\n",
    "\n",
    "def play():\n",
    "    animals = []\n",
    "\n",
    "    option = \"\"\n",
    "    base_prompt = \"\"\"\n",
    "        Quit\n",
    "        Adopt <petname_with_no_spaces_please>\n",
    "        Greet <petname>\n",
    "        Teach <petname> <word>\n",
    "        Feed <petname>\n",
    "\n",
    "        Choice: \"\"\"\n",
    "    feedback = \"\"\n",
    "    while True:\n",
    "        action = input(feedback + \"\\n\" + base_prompt)\n",
    "        feedback = \"\"\n",
    "        words = action.split()\n",
    "        if len(words) > 0:\n",
    "            command = words[0]\n",
    "        else:\n",
    "            command = None\n",
    "        if command == \"Quit\":\n",
    "            print(\"Exiting...\")\n",
    "            return\n",
    "        elif command == \"Adopt\" and len(words) > 1:\n",
    "            if whichone(animals, words[1]):\n",
    "                feedback += \"You already have a pet with that name\\n\"\n",
    "            else:\n",
    "                animals.append(Pet(words[1]))\n",
    "        elif command == \"Greet\" and len(words) > 1:\n",
    "            pet = whichone(animals, words[1])\n",
    "            if not pet:\n",
    "                feedback += \"I didn't recognize that pet name. Please try again.\\n\"\n",
    "                print()\n",
    "            else:\n",
    "                pet.hi()\n",
    "        elif command == \"Teach\" and len(words) > 2:\n",
    "            pet = whichone(animals, words[1])\n",
    "            if not pet:\n",
    "                feedback += \"I didn't recognize that pet name. Please try again.\"\n",
    "            else:\n",
    "                pet.teach(words[2])\n",
    "        elif command == \"Feed\" and len(words) > 1:\n",
    "            pet = whichone(animals, words[1])\n",
    "            if not pet:\n",
    "                feedback += \"I didn't recognize that pet name. Please try again.\"\n",
    "            else:\n",
    "                pet.feed()\n",
    "        else:\n",
    "            feedback+= \"I didn't understand that. Please try again.\"\n",
    "\n",
    "        for pet in animals:\n",
    "            pet.clock_tick()\n",
    "            feedback += \"\\n\" + pet.__str__()\n",
    "\n",
    "\n",
    "\n",
    "play()\n"
   ]
  },
  {
   "cell_type": "code",
   "execution_count": null,
   "id": "8bd828ce",
   "metadata": {},
   "outputs": [],
   "source": []
  }
 ],
 "metadata": {
  "kernelspec": {
   "display_name": "Python 3",
   "language": "python",
   "name": "python3"
  },
  "language_info": {
   "codemirror_mode": {
    "name": "ipython",
    "version": 3
   },
   "file_extension": ".py",
   "mimetype": "text/x-python",
   "name": "python",
   "nbconvert_exporter": "python",
   "pygments_lexer": "ipython3",
   "version": "3.8.5"
  }
 },
 "nbformat": 4,
 "nbformat_minor": 5
}
