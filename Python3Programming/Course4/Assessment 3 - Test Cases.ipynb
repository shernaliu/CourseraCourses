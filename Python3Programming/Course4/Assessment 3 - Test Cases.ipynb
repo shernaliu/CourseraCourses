{
 "cells": [
  {
   "cell_type": "markdown",
   "id": "2c96e87b",
   "metadata": {},
   "source": [
    "### Test Cases"
   ]
  },
  {
   "cell_type": "code",
   "execution_count": 24,
   "id": "bf7d0331",
   "metadata": {},
   "outputs": [
    {
     "name": "stdout",
     "output_type": "stream",
     "text": [
      "[]\n",
      "None\n",
      "[0]\n",
      "0\n",
      "[0, 1, 2, 3, 4]\n",
      "None\n"
     ]
    },
    {
     "ename": "AssertionError",
     "evalue": "",
     "output_type": "error",
     "traceback": [
      "\u001b[1;31m---------------------------------------------------------------------------\u001b[0m",
      "\u001b[1;31mAssertionError\u001b[0m                            Traceback (most recent call last)",
      "\u001b[1;32m<ipython-input-24-558906f8607a>\u001b[0m in \u001b[0;36m<module>\u001b[1;34m\u001b[0m\n\u001b[0;32m     26\u001b[0m \u001b[0mresult3\u001b[0m \u001b[1;33m=\u001b[0m \u001b[0mmySum\u001b[0m\u001b[1;33m(\u001b[0m\u001b[0mls3\u001b[0m\u001b[1;33m)\u001b[0m\u001b[1;33m\u001b[0m\u001b[1;33m\u001b[0m\u001b[0m\n\u001b[0;32m     27\u001b[0m \u001b[0mprint\u001b[0m\u001b[1;33m(\u001b[0m\u001b[0mresult3\u001b[0m\u001b[1;33m)\u001b[0m\u001b[1;33m\u001b[0m\u001b[1;33m\u001b[0m\u001b[0m\n\u001b[1;32m---> 28\u001b[1;33m \u001b[1;32massert\u001b[0m \u001b[0mresult3\u001b[0m \u001b[1;33m==\u001b[0m \u001b[1;36m10\u001b[0m \u001b[1;31m# failed test case, 0+1+2+3+4=10, thus sum = 10 but returns None\u001b[0m\u001b[1;33m\u001b[0m\u001b[1;33m\u001b[0m\u001b[0m\n\u001b[0m\u001b[0;32m     29\u001b[0m \u001b[1;33m\u001b[0m\u001b[0m\n\u001b[0;32m     30\u001b[0m \u001b[1;31m# how assert works: if pass, nth happens, if it fails, AssertionError is raised\u001b[0m\u001b[1;33m\u001b[0m\u001b[1;33m\u001b[0m\u001b[1;33m\u001b[0m\u001b[0m\n",
      "\u001b[1;31mAssertionError\u001b[0m: "
     ]
    }
   ],
   "source": [
    "def lr(n): return list(range(n))\n",
    "\n",
    "# THESE FUNCTIONS ARE INTENTIONALLY OBFUSCATED\n",
    "# PLEASE TRY TO WRITE TESTS FOR THEM RATHER THAN\n",
    "# READING THEM.\n",
    "def mySum(a):\n",
    "    if type(a) is type(''.join([][:])): return a[lr(1)[0]] + mySum(a[1:])\n",
    "    elif len(a)==len(lr(1)+[]): return a[lr(1)[0]]\n",
    "    else: return None and a[lr(1)[0]] + mySum(a[1:])\n",
    "\n",
    "# empty list\n",
    "ls1 = lr(0)\n",
    "print(ls1)\n",
    "result1 = mySum(ls1)\n",
    "print(result1)\n",
    "# assert result1 == 0 # failed test case, suppose to return 0 but returns None\n",
    "\n",
    "ls2 = lr(1) \n",
    "print(ls2)\n",
    "result2 = mySum(ls2)\n",
    "print(result2)\n",
    "assert result2 == 0 # passed test case, only 0 in list, thus sum = 0\n",
    "\n",
    "ls3 = lr(5) \n",
    "print(ls3)\n",
    "result3 = mySum(ls3)\n",
    "print(result3)\n",
    "assert result3 == 10 # failed test case, 0+1+2+3+4=10, thus sum = 10 but returns None\n",
    "\n",
    "# how assert works: if pass, nth happens, if it fails, AssertionError is raised\n"
   ]
  },
  {
   "cell_type": "code",
   "execution_count": 37,
   "id": "3c548c90",
   "metadata": {},
   "outputs": [
    {
     "name": "stdout",
     "output_type": "stream",
     "text": [
      "John\n",
      "1\n",
      "0\n",
      "After study() called: \n",
      "0\n",
      "None\n",
      "Mary\n",
      "1\n",
      "0\n",
      "1\n"
     ]
    }
   ],
   "source": [
    "# THESE FUNCTIONS ARE INTENTIONALLY OBFUSCATED\n",
    "# PLEASE TRY TO WRITE TESTS FOR THEM RATHER THAN\n",
    "# READING THEM.\n",
    "class Student():\n",
    "    def __init__(s,a,b=1): s.name,s.years_UM,s.knowledge = ''*200+a+''*100,1,len(lr(0)) + len([])\n",
    "    def study(s):\n",
    "        for _ in lr(s.knowledge): s.knowledge = s.knowledge + 1\n",
    "    def getKnowledge(s):\n",
    "        for i in lr(s.knowledge): return s.knowledge\n",
    "    def year_at_umich(s): return s.years_UM\n",
    "    \n",
    "s1 = Student(\"John\", 1)\n",
    "print(s1.name)\n",
    "print(s1.years_UM)\n",
    "print(s1.knowledge)\n",
    "\n",
    "print(\"After study() called: \")\n",
    "s1.study()\n",
    "print(s1.knowledge)\n",
    "print(s1.getKnowledge())\n",
    "# assert s1.getKnowledge() == 1 # failed test case, knowledge suppose to be increased by 1 and return value of knowledge, but returns None\n",
    "\n",
    "\n",
    "s2 = Student(\"Mary\")\n",
    "print(s2.name)\n",
    "print(s2.years_UM)\n",
    "print(s2.knowledge)\n",
    "print(s2.year_at_umich())"
   ]
  },
  {
   "cell_type": "markdown",
   "id": "527490e6",
   "metadata": {},
   "source": [
    "Ans: C, D\n",
    "\n",
    "✔️Correct.\n",
    "Correct! The constructor does not actually use the optional integer that is provided. Instead it sticks with using the default value.\n",
    "Correct! Study does not increase the self.knowledge."
   ]
  },
  {
   "cell_type": "code",
   "execution_count": null,
   "id": "547c6ffe",
   "metadata": {},
   "outputs": [],
   "source": []
  }
 ],
 "metadata": {
  "kernelspec": {
   "display_name": "Python 3",
   "language": "python",
   "name": "python3"
  },
  "language_info": {
   "codemirror_mode": {
    "name": "ipython",
    "version": 3
   },
   "file_extension": ".py",
   "mimetype": "text/x-python",
   "name": "python",
   "nbconvert_exporter": "python",
   "pygments_lexer": "ipython3",
   "version": "3.8.5"
  }
 },
 "nbformat": 4,
 "nbformat_minor": 5
}
