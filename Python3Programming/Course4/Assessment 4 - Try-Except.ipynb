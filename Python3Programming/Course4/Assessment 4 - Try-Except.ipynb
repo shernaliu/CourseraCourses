{
 "cells": [
  {
   "cell_type": "markdown",
   "id": "77fc12f1",
   "metadata": {},
   "source": [
    "The code below takes the list of country, country, and searches to see if it is in the dictionary gold which shows some countries who won gold during the Olympics. However, this code currently does not work. Correctly add try/except clause in the code so that it will correctly populate the list, country_gold, with either the number of golds won or the string “Did not get gold”."
   ]
  },
  {
   "cell_type": "code",
   "execution_count": 7,
   "id": "dbe55674",
   "metadata": {},
   "outputs": [],
   "source": [
    "\n",
    "gold = {\"US\":46, \"Fiji\":1, \"Great Britain\":27, \"Cuba\":5, \"Thailand\":2, \"China\":26, \"France\":10}\n",
    "country = [\"Fiji\", \"Chile\", \"Mexico\", \"France\", \"Norway\", \"US\"]\n",
    "country_gold = []\n",
    "\n",
    "    \n",
    "try:\n",
    "    for x in country:\n",
    "        if x in gold.keys():\n",
    "            country_gold.append(gold[x])\n",
    "        else: \n",
    "            country_gold.append(\"Did not get gold\")\n",
    "except Exception as e:\n",
    "    print(\"Something went wrong!\" + e)\n"
   ]
  },
  {
   "cell_type": "markdown",
   "id": "79895051",
   "metadata": {},
   "source": [
    "Provided is a buggy for loop that tries to accumulate some values out of some dictionaries. Insert a try/except so that the code passes."
   ]
  },
  {
   "cell_type": "code",
   "execution_count": 10,
   "id": "a8069f6e",
   "metadata": {},
   "outputs": [
    {
     "name": "stdout",
     "output_type": "stream",
     "text": [
      "Total number of puppies: 130\n"
     ]
    }
   ],
   "source": [
    "\n",
    "di = [{\"Puppies\": 17, 'Kittens': 9, \"Birds\": 23, 'Fish': 90, \"Hamsters\": 49}, {\"Puppies\": 23, \"Birds\": 29, \"Fish\": 20, \"Mice\": 20, \"Snakes\": 7}, {\"Fish\": 203, \"Hamsters\": 93, \"Snakes\": 25, \"Kittens\": 89}, {\"Birds\": 20, \"Puppies\": 90, \"Snakes\": 21, \"Fish\": 10, \"Kittens\": 67}]\n",
    "total = 0\n",
    "try:\n",
    "    for diction in di:\n",
    "        if 'Puppies' in diction.keys():\n",
    "            total = total + diction['Puppies']\n",
    "except Exception as e:\n",
    "    print(\"Something went wrong!\" + e)\n",
    "    \n",
    "print(\"Total number of puppies:\", total)\n",
    "\n",
    "\n"
   ]
  },
  {
   "cell_type": "markdown",
   "id": "1bc58102",
   "metadata": {},
   "source": [
    "The list, numb, contains integers. Write code that populates the list remainder with the remainder of 36 divided by each number in numb. For example, the first element should be 0, because 36/6 has no remainder. If there is an error, have the string “Error” appear in the remainder."
   ]
  },
  {
   "cell_type": "code",
   "execution_count": 26,
   "id": "01d8398a",
   "metadata": {},
   "outputs": [
    {
     "name": "stdout",
     "output_type": "stream",
     "text": [
      "integer division or modulo by zero\n",
      "integer division or modulo by zero\n",
      "integer division or modulo by zero\n",
      "integer division or modulo by zero\n",
      "[0, 'Error', 0, 4, 0, 0, 'Error', 0, 36, 'Error', 36, 'Error', 0, 13]\n"
     ]
    }
   ],
   "source": [
    "\n",
    "numb = [6, 0, 36, 8, 2, 36, 0, 12, 60, 0, 45, 0, 3, 23]\n",
    "\n",
    "remainder = []\n",
    "\n",
    "for n in numb:\n",
    "    try:\n",
    "        result = 36 % n\n",
    "        remainder.append(result)\n",
    "    except ZeroDivisionError as e:\n",
    "        print(e)\n",
    "        remainder.append(\"Error\")\n",
    "    \n",
    "print(remainder)"
   ]
  },
  {
   "cell_type": "markdown",
   "id": "8075e447",
   "metadata": {},
   "source": [
    "Provided is buggy code, insert a try/except so that the code passes.\n",
    "\n"
   ]
  },
  {
   "cell_type": "code",
   "execution_count": 35,
   "id": "65eccf58",
   "metadata": {},
   "outputs": [
    {
     "name": "stdout",
     "output_type": "stream",
     "text": [
      "integer division or modulo by zero\n",
      "integer division or modulo by zero\n",
      "[1, 3]\n"
     ]
    }
   ],
   "source": [
    "\n",
    "lst = [2,4,10,42,12,0,4,7,21,4,83,8,5,6,8,234,5,6,523,42,34,0,234,1,435,465,56,7,3,43,23]\n",
    "\n",
    "lst_three = []\n",
    "\n",
    "# for num in lst:\n",
    "#     if 3 % num == 0:\n",
    "#         lst_three.append(num)\n",
    "\n",
    "for num in lst:\n",
    "    try:\n",
    "        if 3 % num == 0:\n",
    "            lst_three.append(num)\n",
    "    except ZeroDivisionError as e: \n",
    "        print(e)\n",
    "\n",
    "print(lst_three)"
   ]
  },
  {
   "cell_type": "markdown",
   "id": "c952ddd8",
   "metadata": {},
   "source": [
    "Write code so that the buggy code provided works using a try/except. When the codes does not work in the try, have it append to the list attempt the string “Error”."
   ]
  },
  {
   "cell_type": "code",
   "execution_count": 40,
   "id": "7a6131f9",
   "metadata": {},
   "outputs": [
    {
     "name": "stdout",
     "output_type": "stream",
     "text": [
      "string index out of range\n",
      "string index out of range\n",
      "string index out of range\n",
      "['b', 'd', 'g', 'Error', 'k', 'o', 'r', 'Error', 'v', 'x', 'Error']\n"
     ]
    }
   ],
   "source": [
    "\n",
    "full_lst = [\"ab\", 'cde', 'fgh', 'i', 'jkml', 'nop', 'qr', 's', 'tv', 'wxy', 'z']\n",
    "\n",
    "attempt = []\n",
    "\n",
    "# for elem in full_lst:\n",
    "#     attempt.append(elem[1])\n",
    "\n",
    "for elem in full_lst:\n",
    "    try:\n",
    "        attempt.append(elem[1])\n",
    "    except Exception as e:\n",
    "        print(e)\n",
    "        attempt.append(\"Error\")\n",
    "        \n",
    "    \n",
    "print(attempt)"
   ]
  },
  {
   "cell_type": "markdown",
   "id": "0ffad2eb",
   "metadata": {},
   "source": [
    "The following code tries to append the third element of each list in conts to the new list third_countries. Currently, the code does not work. Add a try/except clause so the code runs without errors, and the string ‘Continent does not have 3 countries’ is appended to countries instead of producing an error."
   ]
  },
  {
   "cell_type": "code",
   "execution_count": 46,
   "id": "fdf23d64",
   "metadata": {},
   "outputs": [
    {
     "name": "stdout",
     "output_type": "stream",
     "text": [
      "list index out of range\n",
      "list index out of range\n",
      "['Greece', 'Canada', 'Korea', 'Brazil', 'Continent does not have 3 countries', 'Kenya', 'Continent does not have 3 countries']\n"
     ]
    }
   ],
   "source": [
    "\n",
    "conts = [['Spain', 'France', 'Greece', 'Portugal', 'Romania', 'Germany'], ['USA', 'Mexico', 'Canada'], ['Japan', 'China', 'Korea', 'Vietnam', 'Cambodia'], ['Argentina', 'Chile', 'Brazil', 'Ecuador', 'Uruguay', 'Venezuela'], ['Australia'], ['Zimbabwe', 'Morocco', 'Kenya', 'Ethiopa', 'South Africa'], ['Antarctica']]\n",
    "\n",
    "third_countries = []\n",
    "\n",
    "for c in conts:\n",
    "    try:\n",
    "        third_countries.append(c[2])\n",
    "    except Exception as e:\n",
    "        print(e)\n",
    "        third_countries.append('Continent does not have 3 countries')\n",
    "\n",
    "print(third_countries)"
   ]
  },
  {
   "cell_type": "markdown",
   "id": "5556ce68",
   "metadata": {},
   "source": [
    "The buggy code below prints out the value of the sport in the list sport. Use try/except so that the code will run properly. If the sport is not in the dictionary, ppl_play, add it in with the value of 1.\n",
    "\n"
   ]
  },
  {
   "cell_type": "code",
   "execution_count": 48,
   "id": "b30e09f8",
   "metadata": {},
   "outputs": [
    {
     "name": "stdout",
     "output_type": "stream",
     "text": [
      "4\n",
      "'basketball'\n",
      "10\n",
      "8\n",
      "15\n",
      "'baseball'\n",
      "{'hockey': 4, 'soccer': 10, 'football': 15, 'tennis': 8, 'basketball': 1, 'baseball': 1}\n"
     ]
    }
   ],
   "source": [
    "\n",
    "sport = [\"hockey\", \"basketball\", \"soccer\", \"tennis\", \"football\", \"baseball\"]\n",
    "\n",
    "ppl_play = {\"hockey\":4, \"soccer\": 10, \"football\": 15, \"tennis\": 8}\n",
    "\n",
    "for x in sport:\n",
    "    try:\n",
    "        print(ppl_play[x])\n",
    "    except Exception as e:\n",
    "        print(e)\n",
    "        ppl_play[x] = 1\n",
    "        \n",
    "print(ppl_play)"
   ]
  },
  {
   "cell_type": "markdown",
   "id": "8586e713",
   "metadata": {},
   "source": [
    "Provided is a buggy for loop that tries to accumulate some values out of some dictionaries. Insert a try/except so that the code passes. If the key is not there, initialize it in the dictionary and set the value to zero.\n",
    "\n"
   ]
  },
  {
   "cell_type": "code",
   "execution_count": 50,
   "id": "b6e56059",
   "metadata": {},
   "outputs": [
    {
     "name": "stdout",
     "output_type": "stream",
     "text": [
      "'Puppies'\n",
      "Total number of puppies: 130\n"
     ]
    }
   ],
   "source": [
    "\n",
    "di = [{\"Puppies\": 17, 'Kittens': 9, \"Birds\": 23, 'Fish': 90, \"Hamsters\": 49}, {\"Puppies\": 23, \"Birds\": 29, \"Fish\": 20, \"Mice\": 20, \"Snakes\": 7}, {\"Fish\": 203, \"Hamsters\": 93, \"Snakes\": 25, \"Kittens\": 89}, {\"Birds\": 20, \"Puppies\": 90, \"Snakes\": 21, \"Fish\": 10, \"Kittens\": 67}]\n",
    "total = 0\n",
    "for diction in di:\n",
    "    try:\n",
    "        total = total + diction['Puppies']\n",
    "    except Exception as e:\n",
    "        print(e)\n",
    "        diction['Puppies'] = 0\n",
    "\n",
    "print(\"Total number of puppies:\", total)\n",
    "\n",
    "\n"
   ]
  },
  {
   "cell_type": "code",
   "execution_count": null,
   "id": "952b6568",
   "metadata": {},
   "outputs": [],
   "source": []
  }
 ],
 "metadata": {
  "kernelspec": {
   "display_name": "Python 3",
   "language": "python",
   "name": "python3"
  },
  "language_info": {
   "codemirror_mode": {
    "name": "ipython",
    "version": 3
   },
   "file_extension": ".py",
   "mimetype": "text/x-python",
   "name": "python",
   "nbconvert_exporter": "python",
   "pygments_lexer": "ipython3",
   "version": "3.8.5"
  }
 },
 "nbformat": 4,
 "nbformat_minor": 5
}
