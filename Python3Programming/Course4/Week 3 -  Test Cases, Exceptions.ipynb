{
 "cells": [
  {
   "cell_type": "markdown",
   "id": "716e3bd8",
   "metadata": {},
   "source": [
    "### Test cases"
   ]
  },
  {
   "cell_type": "code",
   "execution_count": 7,
   "id": "a3d4a27b",
   "metadata": {},
   "outputs": [],
   "source": [
    "class Point:\n",
    "    \"\"\" Point class for representing and manipulating x,y coordinates. \"\"\"\n",
    "\n",
    "    def __init__(self, initX, initY):\n",
    "\n",
    "        self.x = initX\n",
    "        self.y = initY\n",
    "\n",
    "    def distanceFromOrigin(self):\n",
    "        return ((self.x ** 2) + (self.y ** 2)) ** 0.5\n",
    "\n",
    "    def move(self, dx, dy):\n",
    "        self.x = self.x + dx\n",
    "        self.y = self.y + dy\n",
    "\n",
    "\n",
    "#testing class constructor (__init__ method)\n",
    "p = Point(3, 4)\n",
    "assert p.y == 4\n",
    "assert p.x == 3\n",
    "\n",
    "#testing the distance method\n",
    "p = Point(3, 4)\n",
    "assert p.distanceFromOrigin() == 5.0\n",
    "\n",
    "#testing the move method\n",
    "p = Point(3, 4)\n",
    "p.move(-2, 3)\n",
    "assert p.x == 1\n",
    "assert p.y == 7\n"
   ]
  },
  {
   "cell_type": "markdown",
   "id": "7eb5c96b",
   "metadata": {},
   "source": [
    "### Exceptions"
   ]
  },
  {
   "cell_type": "code",
   "execution_count": 9,
   "id": "984f6ec5",
   "metadata": {},
   "outputs": [
    {
     "name": "stdout",
     "output_type": "stream",
     "text": [
      "got an error\n",
      "list index out of range\n",
      "continuing\n"
     ]
    }
   ],
   "source": [
    "try:\n",
    "    items = ['a', 'b']\n",
    "    third = items[2]\n",
    "    print(\"This won't print\")\n",
    "except Exception as e:\n",
    "    print(\"got an error\")\n",
    "    print(e)\n",
    "\n",
    "print(\"continuing\")\n"
   ]
  },
  {
   "cell_type": "code",
   "execution_count": null,
   "id": "2f3d629b",
   "metadata": {},
   "outputs": [],
   "source": []
  }
 ],
 "metadata": {
  "kernelspec": {
   "display_name": "Python 3",
   "language": "python",
   "name": "python3"
  },
  "language_info": {
   "codemirror_mode": {
    "name": "ipython",
    "version": 3
   },
   "file_extension": ".py",
   "mimetype": "text/x-python",
   "name": "python",
   "nbconvert_exporter": "python",
   "pygments_lexer": "ipython3",
   "version": "3.8.5"
  }
 },
 "nbformat": 4,
 "nbformat_minor": 5
}
