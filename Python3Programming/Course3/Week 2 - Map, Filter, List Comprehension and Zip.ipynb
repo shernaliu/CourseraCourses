{
 "cells": [
  {
   "cell_type": "markdown",
   "id": "coral-university",
   "metadata": {},
   "source": [
    "### 23.1. Introduction: Map, Filter, List Comprehensions, and Zip"
   ]
  },
  {
   "cell_type": "markdown",
   "id": "strategic-inside",
   "metadata": {},
   "source": [
    "Let’s revisit the accumulator pattern. We have frequently taken a list and produced another list from it that contains either a subset of the items or a transformed version of each item. When each item is transformed we say that the operation is a **mapping, or just a map** of the original list. When some items are omitted, we call it a **filter**.\n",
    "\n",
    "Python provides built-in functions `map` and `filter`. Python also provides a new syntax, called **list comprehensions**, that lets you express a mapping and/or filtering operation. Just as with named functions and lambda expressions, some students seem to find it easier to think in terms of the map and filter functions, while other students find it easier to read and write list comprehensions. You’ll learn both ways; one may even help you understand the other. Most python programmers use list comprehensions, so make sure you learn to read those. In this course, you can choose to learn to write list comprehensions or to use map and filter, whichever you prefer. You should learn to read both list comprehensions and map/filter.\n",
    "\n",
    "Other common accumulator patterns on lists aggregate all the values into a single value.\n",
    "\n",
    "Map, and filter are commands that you would use in high-performance computing on big datasets. See MapReduce on Wikipedia [https://en.wikipedia.org/wiki/MapReduce]."
   ]
  },
  {
   "cell_type": "markdown",
   "id": "beautiful-fault",
   "metadata": {},
   "source": [
    "You previously were introduced to accumulating a list by transforming each of the elements. Here we revisit that pattern.\n",
    "\n",
    "The following function produces a new list with each item in the original list doubled. It is an example of a mapping, from the original list to a new list of the same length, where each element is doubled."
   ]
  },
  {
   "cell_type": "code",
   "execution_count": 2,
   "id": "damaged-terminology",
   "metadata": {},
   "outputs": [
    {
     "name": "stdout",
     "output_type": "stream",
     "text": [
      "[2, 5, 9]\n",
      "[4, 10, 18]\n"
     ]
    }
   ],
   "source": [
    "def doubleStuff(a_list):\n",
    "    \"\"\" Return a new list in which contains doubles of the elements in a_list. \"\"\"\n",
    "    new_list = []\n",
    "    for value in a_list:\n",
    "        new_elem = 2 * value\n",
    "        new_list.append(new_elem)\n",
    "    return new_list\n",
    "\n",
    "things = [2, 5, 9]\n",
    "print(things)\n",
    "things = doubleStuff(things)\n",
    "print(things)\n"
   ]
  },
  {
   "cell_type": "markdown",
   "id": "convertible-equipment",
   "metadata": {},
   "source": [
    "This pattern of computation is so common that python offers a more general way to do mappings, the `map` function, that makes it more clear what the overall structure of the computation is. `map` takes two arguments, a function and a sequence. The function is the mapper that transforms items. It is automatically applied to each item in the sequence. You don’t have to initialize an accumulator or iterate with a for loop at all."
   ]
  },
  {
   "cell_type": "markdown",
   "id": "stupid-orange",
   "metadata": {},
   "source": [
    "**Note**\n",
    "\n",
    "Technically, in a proper Python 3 interpreter, the map function produces an “iterator”, which is like a list but produces the items as they are needed. Most places in Python where you can use a list (e.g., in a for loop) you can use an “iterator” as if it was actually a list. So you probably won’t ever notice the difference. If you ever really need a list, you can explicitly turn the output of map into a list: `list(map(...))`. In the runestone environment, map actually returns a real list, but to make this code compatible with a full python environment, we always convert it to a list."
   ]
  },
  {
   "cell_type": "markdown",
   "id": "stainless-truck",
   "metadata": {},
   "source": [
    "As we did when passing a function as a parameter to the `sorted` function, we can specify a function to pass to `map` either by referring to a function by name, or by providing a lambda expression.\n",
    "\n"
   ]
  },
  {
   "cell_type": "code",
   "execution_count": 3,
   "id": "mediterranean-glance",
   "metadata": {},
   "outputs": [
    {
     "name": "stdout",
     "output_type": "stream",
     "text": [
      "[6, 15, 27]\n",
      "[8, 20, 36]\n"
     ]
    }
   ],
   "source": [
    "def triple(value):\n",
    "    return 3*value\n",
    "\n",
    "def tripleStuff(a_list):\n",
    "    new_seq = map(triple, a_list)\n",
    "    return list(new_seq)\n",
    "\n",
    "def quadrupleStuff(a_list):\n",
    "    new_seq = map(lambda value: 4*value, a_list)\n",
    "    return list(new_seq)\n",
    "\n",
    "things = [2, 5, 9]\n",
    "things3 = tripleStuff(things)\n",
    "print(things3)\n",
    "things4 = quadrupleStuff(things)\n",
    "print(things4)\n"
   ]
  },
  {
   "cell_type": "markdown",
   "id": "generous-premiere",
   "metadata": {},
   "source": [
    "Of course, once we get used to using the `map` function, it’s no longer necessary to define functions like `tripleStuff` and `quadrupleStuff`.\n",
    "\n"
   ]
  },
  {
   "cell_type": "code",
   "execution_count": 4,
   "id": "passive-business",
   "metadata": {},
   "outputs": [
    {
     "name": "stdout",
     "output_type": "stream",
     "text": [
      "[8, 20, 36]\n",
      "[5, 10, 15]\n"
     ]
    }
   ],
   "source": [
    "things = [2, 5, 9]\n",
    "\n",
    "things4 = map((lambda value: 4*value), things)\n",
    "print(list(things4))\n",
    "\n",
    "# or all on one line\n",
    "print(list(map((lambda value: 5*value), [1, 2, 3])))\n"
   ]
  },
  {
   "cell_type": "markdown",
   "id": "aboriginal-jason",
   "metadata": {},
   "source": [
    "Using map, create a list assigned to the variable greeting_doubled that doubles each element in the list lst.\n",
    "\n"
   ]
  },
  {
   "cell_type": "code",
   "execution_count": 14,
   "id": "automotive-consent",
   "metadata": {},
   "outputs": [
    {
     "name": "stdout",
     "output_type": "stream",
     "text": [
      "[['hi', 'bye', 'hi', 'bye'], 'hellohello', 'goodbyegoodbye', [9, 2, 9, 2], 8]\n"
     ]
    }
   ],
   "source": [
    "lst = [[\"hi\", \"bye\"], \"hello\", \"goodbye\", [9, 2], 4]\n",
    "\n",
    "greeting_doubled = map(lambda item: item*2, lst)\n",
    "print(list(greeting_doubled))\n"
   ]
  },
  {
   "cell_type": "markdown",
   "id": "imperial-copper",
   "metadata": {},
   "source": [
    "Below, we have provided a list of strings called abbrevs. Use `map` to produce a new list called abbrevs_upper that contains all the same strings in upper case.\n",
    "\n"
   ]
  },
  {
   "cell_type": "code",
   "execution_count": 11,
   "id": "electric-association",
   "metadata": {},
   "outputs": [
    {
     "name": "stdout",
     "output_type": "stream",
     "text": [
      "['USA', 'ESP', 'CHN', 'JPN', 'MEX', 'CAN', 'RUS', 'RSA', 'JAM']\n",
      "['US', 'ES', 'CH', 'JP', 'ME', 'CA', 'RU', 'RS', 'JA']\n"
     ]
    }
   ],
   "source": [
    "abbrevs = [\"usa\", \"esp\", \"chn\", \"jpn\", \"mex\", \"can\", \"rus\", \"rsa\", \"jam\"]\n",
    "\n",
    "def transformer(st):\n",
    "    return st.upper()\n",
    "\n",
    "abbrevs_upper = map(transformer,abbrevs)\n",
    "print(list(abbrevs_upper))\n",
    "\n",
    "abbrevs_upper2 = map(lambda st: st[:2].upper(), abbrevs)\n",
    "print(list(abbrevs_upper2))\n"
   ]
  },
  {
   "cell_type": "markdown",
   "id": "weekly-equity",
   "metadata": {},
   "source": [
    "### 23.3. Filter\n",
    "\n",
    "Now consider another common pattern: going through a list and keeping only those items that meet certain criteria. This is called a filter."
   ]
  },
  {
   "cell_type": "code",
   "execution_count": 15,
   "id": "compliant-bobby",
   "metadata": {},
   "outputs": [
    {
     "name": "stdout",
     "output_type": "stream",
     "text": [
      "[4, 6, 0]\n"
     ]
    }
   ],
   "source": [
    "def keep_evens(nums):\n",
    "    new_list = []\n",
    "    for num in nums:\n",
    "        if num % 2 == 0:\n",
    "            new_list.append(num)\n",
    "    return new_list\n",
    "\n",
    "print(keep_evens([3, 4, 6, 7, 0, 1]))\n"
   ]
  },
  {
   "cell_type": "markdown",
   "id": "friendly-wednesday",
   "metadata": {},
   "source": [
    "Again, this pattern of computation is so common that Python offers a more compact and general way to do it, the filter function. `filter` takes two arguments, a function and a sequence. The function takes one item and return True if the item should. It is automatically called for each item in the sequence. You don’t have to initialize an accumulator or iterate with a for loop."
   ]
  },
  {
   "cell_type": "code",
   "execution_count": 16,
   "id": "regulation-doctrine",
   "metadata": {},
   "outputs": [
    {
     "name": "stdout",
     "output_type": "stream",
     "text": [
      "[4, 6, 0]\n"
     ]
    }
   ],
   "source": [
    "def keep_evens(nums):\n",
    "    new_seq = filter(lambda num: num % 2 == 0, nums)\n",
    "    return list(new_seq)\n",
    "\n",
    "print(keep_evens([3, 4, 6, 7, 0, 1]))\n"
   ]
  },
  {
   "cell_type": "markdown",
   "id": "functioning-oklahoma",
   "metadata": {},
   "source": [
    "Write code to assign to the variable filter_testing all the elements in lst_check that have a w in them using filter."
   ]
  },
  {
   "cell_type": "code",
   "execution_count": 20,
   "id": "binary-apartment",
   "metadata": {},
   "outputs": [
    {
     "name": "stdout",
     "output_type": "stream",
     "text": [
      "['watermelon', 'kiwi', 'strawberries']\n"
     ]
    }
   ],
   "source": [
    "\n",
    "lst_check = ['plums', 'watermelon', 'kiwi', 'strawberries', 'blueberries', 'peaches', 'apples', 'mangos', 'papaya']\n",
    "\n",
    "filter_testing = filter(lambda word: 'w' in word, lst_check)\n",
    "\n",
    "print(list(filter_testing))"
   ]
  },
  {
   "cell_type": "markdown",
   "id": "violent-aquatic",
   "metadata": {},
   "source": [
    "Using filter, filter lst so that it only contains words containing the letter “o”. Assign to variable lst2. Do not hardcode this."
   ]
  },
  {
   "cell_type": "code",
   "execution_count": 21,
   "id": "injured-channels",
   "metadata": {},
   "outputs": [
    {
     "name": "stdout",
     "output_type": "stream",
     "text": [
      "['halloween', 'wagon', 'moon']\n"
     ]
    }
   ],
   "source": [
    "\n",
    "lst = [\"witch\", \"halloween\", \"pumpkin\", \"cat\", \"candy\", \"wagon\", \"moon\"]\n",
    "\n",
    "lst2 = filter(lambda word: 'o' in word, lst)\n",
    "print(list(lst2))"
   ]
  },
  {
   "cell_type": "markdown",
   "id": "intensive-morris",
   "metadata": {},
   "source": [
    "### 23.4. List Comprehensions\n",
    "\n",
    "Python provides an alternative way to do `map` and `filter` operations, called a list comprehension. Many programmers find them easier to understand and write. List comprehensions are concise ways to create lists from other lists. The general syntax is:"
   ]
  },
  {
   "cell_type": "markdown",
   "id": "documentary-insertion",
   "metadata": {},
   "source": [
    "Python provides an alternative way to do map and filter operations, called a list comprehension. Many programmers find them easier to understand and write. List comprehensions are concise ways to create lists from other lists. The general syntax is:\n",
    "\n",
    "`\n",
    "[<transformer_expression> for <loop_var> in <sequence> if <filtration_expression>]\n",
    "`\n",
    "\n",
    "where the if clause is optional. For example,"
   ]
  },
  {
   "cell_type": "code",
   "execution_count": 22,
   "id": "turkish-theology",
   "metadata": {},
   "outputs": [
    {
     "name": "stdout",
     "output_type": "stream",
     "text": [
      "[4, 10, 18]\n"
     ]
    }
   ],
   "source": [
    "things = [2, 5, 9]\n",
    "\n",
    "yourlist = [value * 2 for value in things]\n",
    "\n",
    "print(yourlist)\n"
   ]
  },
  {
   "cell_type": "markdown",
   "id": "burning-prototype",
   "metadata": {},
   "source": [
    "The transformer expression is `value * 2`. The item variable is `value` and the sequence is `things`. This is an alternative way to perform a mapping operation. As with `map`, each item in the sequence is transformed into an item in the new list. Instead of the iteration happening automatically, however, we have adopted the syntax of the for loop which may make it easier to understand.\n",
    "\n",
    "Just as in a regular for loop, the part of the statement `for value in things` says to execute some code once for each item in things. Each time that code is executed, `value` is bound to one item from things. The code that is executed each time is the transformer expression, `value * 2`, rather than a block of code indented underneath the for statement. The other difference from a regular for loop is that each time the expression is evaluated, the resulting value is appended to a list. That happens automatically, without the programmer explicitly initializing an empty list or appending each item.\n",
    "\n",
    "The if clause of a list comprehension can be used to do a filter operation. To perform a pure filter operation, the expression can be simply the variable that is bound to each item. For example, the following list comprehension will keep only the even numbers from the original list.\n"
   ]
  },
  {
   "cell_type": "code",
   "execution_count": 23,
   "id": "split-theme",
   "metadata": {},
   "outputs": [
    {
     "name": "stdout",
     "output_type": "stream",
     "text": [
      "[4, 6, 0]\n"
     ]
    }
   ],
   "source": [
    "def keep_evens(nums):\n",
    "    new_list = [num for num in nums if num % 2 == 0]\n",
    "    return new_list\n",
    "\n",
    "print(keep_evens([3, 4, 6, 7, 0, 1]))\n"
   ]
  },
  {
   "cell_type": "markdown",
   "id": "dense-combining",
   "metadata": {},
   "source": [
    "You can also combine map and filter operations by chaining them together, or with a single list comprehension."
   ]
  },
  {
   "cell_type": "code",
   "execution_count": 25,
   "id": "previous-methodology",
   "metadata": {},
   "outputs": [
    {
     "name": "stdout",
     "output_type": "stream",
     "text": [
      "<map object at 0x00000273ECB9E9A0>\n",
      "[8, 12, 0]\n"
     ]
    }
   ],
   "source": [
    "things = [3, 4, 6, 7, 0, 1]\n",
    "#chaining together filter and map:\n",
    "# first, filter to keep only the even numbers\n",
    "# double each of them\n",
    "print(map(lambda x: x*2, filter(lambda y: y % 2 == 0, things)))\n",
    "\n",
    "# equivalent version using list comprehension\n",
    "print([x*2 for x in things if x % 2 == 0])\n"
   ]
  },
  {
   "cell_type": "markdown",
   "id": "defined-hunger",
   "metadata": {},
   "source": [
    "AdAccum-4-1: What is printed by the following statements?\n",
    "\n"
   ]
  },
  {
   "cell_type": "code",
   "execution_count": 26,
   "id": "functional-winning",
   "metadata": {},
   "outputs": [
    {
     "name": "stdout",
     "output_type": "stream",
     "text": [
      "[10]\n"
     ]
    }
   ],
   "source": [
    "alist = [4,2,8,6,5]\n",
    "blist = [num*2 for num in alist if num%2==1]\n",
    "print(blist)"
   ]
  },
  {
   "cell_type": "markdown",
   "id": "expanded-interstate",
   "metadata": {},
   "source": [
    "The for loop below produces a list of numbers greater than 10. Below the given code, use list comprehension to accomplish the same thing. Assign it the the variable lst2. Only one line of code is needed."
   ]
  },
  {
   "cell_type": "code",
   "execution_count": 28,
   "id": "welsh-video",
   "metadata": {},
   "outputs": [
    {
     "name": "stdout",
     "output_type": "stream",
     "text": [
      "[12, 34, 21, 42]\n"
     ]
    }
   ],
   "source": [
    "L = [12, 34, 21, 4, 6, 9, 42]\n",
    "lst = []\n",
    "for x in L:\n",
    "    if x > 10:\n",
    "        lst.append(x)\n",
    "print(lst)"
   ]
  },
  {
   "cell_type": "code",
   "execution_count": 29,
   "id": "progressive-reconstruction",
   "metadata": {},
   "outputs": [
    {
     "name": "stdout",
     "output_type": "stream",
     "text": [
      "[12, 34, 21, 42]\n"
     ]
    }
   ],
   "source": [
    "L = [12, 34, 21, 4, 6, 9, 42]\n",
    "lst2 = [x for x in L if x > 10]\n",
    "print(lst2)"
   ]
  },
  {
   "cell_type": "markdown",
   "id": "expanded-freedom",
   "metadata": {},
   "source": [
    "Write code to assign to the variable `compri` all the values of the key `name` in any of the sub-dictionaries in the dictionary `tester`. Do this using a list comprehension."
   ]
  },
  {
   "cell_type": "code",
   "execution_count": 41,
   "id": "located-ozone",
   "metadata": {},
   "outputs": [
    {
     "name": "stdout",
     "output_type": "stream",
     "text": [
      "['Lauren', 'Ayo', 'Kathryn', 'Nick', 'Gladys', 'Adam']\n"
     ]
    }
   ],
   "source": [
    "tester = {'info': [{\"name\": \"Lauren\", 'class standing': 'Junior', 'major': \"Information Science\"},{'name': 'Ayo', 'class standing': \"Bachelor's\", 'major': 'Information Science'}, {'name': 'Kathryn', 'class standing': 'Senior', 'major': 'Sociology'}, {'name': 'Nick', 'class standing': 'Junior', 'major': 'Computer Science'}, {'name': 'Gladys', 'class standing': 'Sophomore', 'major': 'History'}, {'name': 'Adam', 'major': 'Violin Performance', 'class standing': 'Senior'}]}\n",
    "\n",
    "inner_list = tester['info']\n",
    "import json\n",
    "# print(json.dumps(inner_list, indent=2))\n",
    "\n",
    "compri = [d['name'] for d in inner_list]\n",
    "print(compri)"
   ]
  },
  {
   "cell_type": "markdown",
   "id": "pretty-attention",
   "metadata": {},
   "source": [
    "Write a function called `longlengths` that returns the lengths of those strings that have at least 4 characters. Try it with a list comprehension.\n"
   ]
  },
  {
   "cell_type": "code",
   "execution_count": 43,
   "id": "rubber-event",
   "metadata": {},
   "outputs": [
    {
     "name": "stdout",
     "output_type": "stream",
     "text": [
      "[4, 5]\n"
     ]
    }
   ],
   "source": [
    "def longlengths(strings):\n",
    "    return [len(s) for s in strings if len(s) >= 4]\n",
    "\n",
    "def longlengths(strings):\n",
    "    accum = []\n",
    "    for s in strings:\n",
    "        if len(s) >= 4:\n",
    "            accum.append(len(s))\n",
    "    return accum\n",
    "\n",
    "def longlenths(strings):\n",
    "    filtered_strings = filter(lambda s: len(s)>=4, strings)\n",
    "    return map(len, filtered_strings)\n",
    "\n",
    "print(longlengths(['a', 'bc', 'def', 'ghij', 'klmno']))"
   ]
  },
  {
   "cell_type": "markdown",
   "id": "democratic-isolation",
   "metadata": {},
   "source": [
    "### 23.5. Zip\n",
    "\n",
    "One more common pattern with lists, besides accumulation, is to step through a pair of lists (or several lists), doing something with all of the first items, then something with all of the second items, and so on. For example, given two lists of numbers, you might like to add them up pairwise, taking [3, 4, 5] and [1, 2, 3] to yield [4, 6, 8].\n",
    "\n",
    "One way to do that with a for loop is to loop through the possible index values."
   ]
  },
  {
   "cell_type": "code",
   "execution_count": 44,
   "id": "consistent-shower",
   "metadata": {},
   "outputs": [
    {
     "name": "stdout",
     "output_type": "stream",
     "text": [
      "[4, 6, 8]\n"
     ]
    }
   ],
   "source": [
    "L1 = [3, 4, 5]\n",
    "L2 = [1, 2, 3]\n",
    "L3 = []\n",
    "\n",
    "for i in range(len(L1)):\n",
    "    L3.append(L1[i] + L2[i])\n",
    "\n",
    "print(L3)\n"
   ]
  },
  {
   "cell_type": "markdown",
   "id": "magnetic-essay",
   "metadata": {},
   "source": [
    "You have seen this idea previously for iterating through the items in a single list. In many other programming languages that’s really the only way to iterate through the items in a list. In Python, however, we have gotten used to the for loop where the iteration variable is bound successively to each item in the list, rather than just to a number that’s used as a position or index into the list.\n",
    "\n",
    "Can’t we do something similar with pairs of lists? It turns out we can.\n",
    "\n",
    "The zip function takes multiple lists and turns them into a list of tuples (actually, an iterator, but they work like lists for most practical purposes), pairing up all the first items as one tuple, all the second items as a tuple, and so on. Then we can iterate through those tuples, and perform some operation on all the first items, all the second items, and so on."
   ]
  },
  {
   "cell_type": "code",
   "execution_count": 45,
   "id": "alert-strength",
   "metadata": {},
   "outputs": [
    {
     "name": "stdout",
     "output_type": "stream",
     "text": [
      "[(3, 1), (4, 2), (5, 3)]\n"
     ]
    }
   ],
   "source": [
    "L1 = [3, 4, 5]\n",
    "L2 = [1, 2, 3]\n",
    "L4 = list(zip(L1, L2))\n",
    "print(L4)\n"
   ]
  },
  {
   "cell_type": "code",
   "execution_count": 46,
   "id": "portuguese-adult",
   "metadata": {},
   "outputs": [
    {
     "name": "stdout",
     "output_type": "stream",
     "text": [
      "[4, 6, 8]\n"
     ]
    }
   ],
   "source": [
    "L1 = [3, 4, 5]\n",
    "L2 = [1, 2, 3]\n",
    "L3 = []\n",
    "L4 = list(zip(L1, L2))\n",
    "\n",
    "for (x1, x2) in L4:\n",
    "    L3.append(x1+x2)\n",
    "\n",
    "print(L3)\n"
   ]
  },
  {
   "cell_type": "markdown",
   "id": "chubby-thing",
   "metadata": {},
   "source": [
    "Or, simplifying and using a list comprehension:\n",
    "\n"
   ]
  },
  {
   "cell_type": "code",
   "execution_count": 47,
   "id": "stainless-substance",
   "metadata": {},
   "outputs": [
    {
     "name": "stdout",
     "output_type": "stream",
     "text": [
      "[4, 6, 8]\n"
     ]
    }
   ],
   "source": [
    "L1 = [3, 4, 5]\n",
    "L2 = [1, 2, 3]\n",
    "L3 = [x1 + x2 for (x1, x2) in list(zip(L1, L2))]\n",
    "print(L3)\n"
   ]
  },
  {
   "cell_type": "markdown",
   "id": "impaired-length",
   "metadata": {},
   "source": [
    "Or, using map and not unpacking the tuple (our online environment has trouble with unpacking the tuple in a lambda expression):\n",
    "\n"
   ]
  },
  {
   "cell_type": "code",
   "execution_count": 48,
   "id": "usual-concept",
   "metadata": {},
   "outputs": [
    {
     "name": "stdout",
     "output_type": "stream",
     "text": [
      "<map object at 0x00000273ECBF4AF0>\n"
     ]
    }
   ],
   "source": [
    "L1 = [3, 4, 5]\n",
    "L2 = [1, 2, 3]\n",
    "L3 = map(lambda x: x[0] + x[1], zip(L1, L2))\n",
    "print(L3)\n"
   ]
  },
  {
   "cell_type": "code",
   "execution_count": null,
   "id": "split-converter",
   "metadata": {},
   "outputs": [],
   "source": []
  }
 ],
 "metadata": {
  "kernelspec": {
   "display_name": "Python 3",
   "language": "python",
   "name": "python3"
  },
  "language_info": {
   "codemirror_mode": {
    "name": "ipython",
    "version": 3
   },
   "file_extension": ".py",
   "mimetype": "text/x-python",
   "name": "python",
   "nbconvert_exporter": "python",
   "pygments_lexer": "ipython3",
   "version": "3.8.5"
  }
 },
 "nbformat": 4,
 "nbformat_minor": 5
}
