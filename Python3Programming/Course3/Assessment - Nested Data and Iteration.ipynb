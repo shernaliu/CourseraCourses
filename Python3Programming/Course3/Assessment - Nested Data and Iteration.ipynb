{
 "cells": [
  {
   "cell_type": "markdown",
   "id": "quantitative-welding",
   "metadata": {},
   "source": [
    "The variable nested contains a nested list. Assign ‘snake’ to the variable output using indexing.\n"
   ]
  },
  {
   "cell_type": "code",
   "execution_count": 1,
   "id": "executed-moore",
   "metadata": {},
   "outputs": [
    {
     "name": "stdout",
     "output_type": "stream",
     "text": [
      "snake\n"
     ]
    }
   ],
   "source": [
    "nested = [['dog', 'cat', 'horse'], ['frog', 'turtle', 'snake', 'gecko'], ['hamster', 'gerbil', 'rat', 'ferret']]\n",
    "output = nested[1][2]\n",
    "print(output)"
   ]
  },
  {
   "cell_type": "markdown",
   "id": "brief-barcelona",
   "metadata": {},
   "source": [
    "Below, a list of lists is provided. Use in and not in tests to create variables with Boolean values. See comments for further instructions."
   ]
  },
  {
   "cell_type": "code",
   "execution_count": 10,
   "id": "recreational-officer",
   "metadata": {},
   "outputs": [
    {
     "name": "stdout",
     "output_type": "stream",
     "text": [
      "True\n",
      "False\n",
      "True\n"
     ]
    }
   ],
   "source": [
    "\n",
    "lst = [['apple', 'orange', 'banana'], [5, 6, 7, 8, 9.9, 10], ['green', 'yellow', 'purple', 'red']]\n",
    "\n",
    "#Test to see if 'yellow' is in the third list of lst. Save to variable ``yellow``\n",
    "if 'yellow' in lst[2]:\n",
    "    yellow = 'yellow' in lst[2]\n",
    "print(yellow)\n",
    "\n",
    "#Test to see if 4 is in the second list of lst. Save to variable ``four``\n",
    "four = 4 in lst[1]\n",
    "print(four)\n",
    "\n",
    "#Test to see if 'orange' is in the first element of lst. Save to variable ``orange``\n",
    "orange = 'orange' in lst[0]\n",
    "print(orange)"
   ]
  },
  {
   "cell_type": "markdown",
   "id": "worldwide-operation",
   "metadata": {},
   "source": [
    "Below, we’ve provided a list of lists. Use in statements to create variables with Boolean values - see the ActiveCode window for further directions."
   ]
  },
  {
   "cell_type": "code",
   "execution_count": 15,
   "id": "inappropriate-efficiency",
   "metadata": {},
   "outputs": [
    {
     "name": "stdout",
     "output_type": "stream",
     "text": [
      "False\n",
      "True\n",
      "True\n"
     ]
    }
   ],
   "source": [
    "\n",
    "L = [[5, 8, 7], ['hello', 'hi', 'hola'], [6.6, 1.54, 3.99], ['small', 'large']]\n",
    "\n",
    "# Test if 'hola' is in the list L. Save to variable name test1\n",
    "test1 = 'hola' in L\n",
    "print(test1)\n",
    "\n",
    "# Test if [5, 8, 7] is in the list L. Save to variable name test2\n",
    "test2 = [5,8,7] in L\n",
    "print(test2)\n",
    "\n",
    "\n",
    "# Test if 6.6 is in the third element of list L. Save to variable name test3\n",
    "test3 = 6.6 in L[2]\n",
    "print(test3)\n"
   ]
  },
  {
   "cell_type": "markdown",
   "id": "norwegian-occasions",
   "metadata": {},
   "source": [
    "Provided is a nested data structure. Follow the instructions in the comments below. Do not hard code."
   ]
  },
  {
   "cell_type": "code",
   "execution_count": 21,
   "id": "communist-federation",
   "metadata": {},
   "outputs": [
    {
     "name": "stdout",
     "output_type": "stream",
     "text": [
      "['part', 'whole', [], 'sum', ['math', 'calculus', 'algebra', 'geometry', 'statistics', ['physics', 'chemistry', 'biology']]]\n"
     ]
    }
   ],
   "source": [
    "\n",
    "nested = {'data': ['finding', 23, ['exercises', 'hangout', 34]], 'window': ['part', 'whole', [], 'sum', ['math', 'calculus', 'algebra', 'geometry', 'statistics',['physics', 'chemistry', 'biology']]]}\n",
    "\n",
    "# Check to see if the string data is a key in nested, if it is, assign True to the variable data, otherwise assign False.\n",
    "if 'data' in nested:\n",
    "    data = True\n",
    "else:\n",
    "    data = False\n",
    "\n",
    "# Check to see if the integer 24 is in the value of the key data, if it is then assign to the variable twentyfour the value of True, otherwise False.\n",
    "if 24 in nested['data']:\n",
    "    twentyfour = True\n",
    "else:\n",
    "    twentyfour = False\n",
    "\n",
    "# Check to see that the string 'whole' is not in the value of the key window. If it's not, then assign to the variable whole the value of True, otherwise False.\n",
    "if 'whole' not in nested['window']:\n",
    "    whole = True\n",
    "else:\n",
    "    whole = False\n",
    "\n",
    "print(nested['window'])\n",
    "    \n",
    "# Check to see if the string 'physics' is a key in the dictionary nested. If it is, assign to the variable physics, the value of True, otherwise False.\n",
    "if 'physics' in nested:\n",
    "    physics = True\n",
    "else:\n",
    "    physics = False"
   ]
  },
  {
   "cell_type": "markdown",
   "id": "aerial-invasion",
   "metadata": {},
   "source": [
    "The variable nested_d contains a nested dictionary with the gold medal counts for the top four countries in the past three Olympics. Assign the value of Great Britain’s gold medal count from the London Olympics to the variable london_gold. Use indexing. Do not hardcode."
   ]
  },
  {
   "cell_type": "code",
   "execution_count": 5,
   "id": "adjustable-ridge",
   "metadata": {},
   "outputs": [
    {
     "name": "stdout",
     "output_type": "stream",
     "text": [
      "29\n"
     ]
    }
   ],
   "source": [
    "\n",
    "nested_d = {'Beijing':{'China':51, 'USA':36, 'Russia':22, 'Great Britain':19}, 'London':{'USA':46, 'China':38, 'Great Britain':29, 'Russia':22}, 'Rio':{'USA':35, 'Great Britain':22, 'China':20, 'Germany':13}}\n",
    "\n",
    "london_gold = nested_d['London']['Great Britain']\n",
    "print(london_gold)"
   ]
  },
  {
   "cell_type": "markdown",
   "id": "dominican-engagement",
   "metadata": {},
   "source": [
    "Below, we have provided a nested dictionary. Index into the dictionary to create variables that we have listed in the ActiveCode window."
   ]
  },
  {
   "cell_type": "code",
   "execution_count": 10,
   "id": "powered-athletics",
   "metadata": {},
   "outputs": [
    {
     "name": "stdout",
     "output_type": "stream",
     "text": [
      "backstroke\n",
      "platform\n",
      "['vault', 'floor', 'uneven bars', 'balance beam']\n",
      "rings\n"
     ]
    }
   ],
   "source": [
    "\n",
    "sports = {'swimming': ['butterfly', 'breaststroke', 'backstroke', 'freestyle'], 'diving': ['springboard', 'platform', 'synchronized'], 'track': ['sprint', 'distance', 'jumps', 'throws'], 'gymnastics': {'women':['vault', 'floor', 'uneven bars', 'balance beam'], 'men': ['vault', 'parallel bars', 'floor', 'rings']}}\n",
    "\n",
    "# Assign the string 'backstroke' to the name v1\n",
    "v1 = sports['swimming'][2]\n",
    "print(v1)\n",
    "\n",
    "# Assign the string 'platform' to the name v2\n",
    "v2 = sports['diving'][1]\n",
    "print(v2)\n",
    "\n",
    "# Assign the list ['vault', 'floor', 'uneven bars', 'balance beam'] to the name v3\n",
    "v3 = sports['gymnastics']['women']\n",
    "print(v3)\n",
    "\n",
    "# Assign the string 'rings' to the name v4\n",
    "v4 = sports['gymnastics']['men'][3]\n",
    "print(v4)\n",
    "\n"
   ]
  },
  {
   "cell_type": "markdown",
   "id": "listed-honduras",
   "metadata": {},
   "source": [
    "Given the dictionary, nested_d, save the medal count for the USA from all three Olympics in the dictionary to the list US_count."
   ]
  },
  {
   "cell_type": "code",
   "execution_count": 16,
   "id": "decent-davis",
   "metadata": {},
   "outputs": [
    {
     "name": "stdout",
     "output_type": "stream",
     "text": [
      "36\n",
      "46\n",
      "35\n"
     ]
    }
   ],
   "source": [
    "\n",
    "nested_d = {'Beijing':{'China':51, 'USA':36, 'Russia':22, 'Great Britain':19}, 'London':{'USA':46, 'China':38, 'Great Britain':29, 'Russia':22}, 'Rio':{'USA':35, 'Great Britain':22, 'China':20, 'Germany':13}}\n",
    "US_count = []\n",
    "for key in nested_d:\n",
    "    print(nested_d[key]['USA'])\n",
    "    US_count.append(nested_d[key]['USA'])\n",
    "\n",
    "\n",
    "\n",
    "\n"
   ]
  },
  {
   "cell_type": "markdown",
   "id": "specialized-allocation",
   "metadata": {},
   "source": [
    "Iterate through the contents of l_of_l and assign the third element of sublist to a new list called third.\n",
    "\n"
   ]
  },
  {
   "cell_type": "code",
   "execution_count": 19,
   "id": "heavy-education",
   "metadata": {},
   "outputs": [
    {
     "name": "stdout",
     "output_type": "stream",
     "text": [
      "blue\n",
      "blood orange\n",
      "lavender\n",
      "mac n cheese\n"
     ]
    }
   ],
   "source": [
    "\n",
    "l_of_l = [['purple', 'mauve', 'blue'], ['red', 'maroon', 'blood orange', 'crimson'], ['sea green', 'cornflower', 'lavender', 'indigo'], ['yellow', 'amarillo', 'mac n cheese', 'golden rod']]\n",
    "\n",
    "third = []\n",
    "for lst in l_of_l:\n",
    "    print(lst[2])\n",
    "    third.append(lst[2])"
   ]
  },
  {
   "cell_type": "markdown",
   "id": "popular-patrick",
   "metadata": {},
   "source": [
    "Given below is a list of lists of athletes. Create a list, t, that saves only the athlete’s name if it contains the letter “t”. If it does not contain the letter “t”, save the athlete name into list other.\n",
    "\n"
   ]
  },
  {
   "cell_type": "code",
   "execution_count": 24,
   "id": "narrative-devon",
   "metadata": {},
   "outputs": [],
   "source": [
    "athletes = [['Phelps', 'Lochte', 'Schooling', 'Ledecky', 'Franklin'], ['Felix', 'Bolt', 'Gardner', 'Eaton'], ['Biles', 'Douglas', 'Hamm', 'Raisman', 'Mikulak', 'Dalton']]\n",
    "t = []\n",
    "other = []\n",
    "\n",
    "for lst in athletes:\n",
    "    for person in lst:\n",
    "        if 't' in person:\n",
    "            t.append(person)\n",
    "        else:\n",
    "            other.append(person)\n"
   ]
  },
  {
   "cell_type": "code",
   "execution_count": null,
   "id": "middle-tenant",
   "metadata": {},
   "outputs": [],
   "source": []
  }
 ],
 "metadata": {
  "kernelspec": {
   "display_name": "Python 3",
   "language": "python",
   "name": "python3"
  },
  "language_info": {
   "codemirror_mode": {
    "name": "ipython",
    "version": 3
   },
   "file_extension": ".py",
   "mimetype": "text/x-python",
   "name": "python",
   "nbconvert_exporter": "python",
   "pygments_lexer": "ipython3",
   "version": "3.8.5"
  }
 },
 "nbformat": 4,
 "nbformat_minor": 5
}
