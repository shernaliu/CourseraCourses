{
 "cells": [
  {
   "cell_type": "markdown",
   "metadata": {},
   "source": [
    "# Week 5 Assignment - Sentiment Classifier\n",
    "\n",
    "We have provided some synthetic (fake, semi-randomly generated) twitter data in a csv file named project_twitter_data.csv which has the text of a tweet, the number of retweets of that tweet, and the number of replies to that tweet. We have also words that express positive sentiment and negative sentiment, in the files positive_words.txt and negative_words.txt.\n",
    "\n",
    "Your task is to build a sentiment classifier, which will detect how positive or negative each tweet is. You will create a csv file, which contains columns for the Number of Retweets, Number of Replies, Positive Score (which is how many happy words are in the tweet), Negative Score (which is how many angry words are in the tweet), and the Net Score for each tweet. At the end, you upload the csv file to Excel or Google Sheets, and produce a graph of the Net Score vs Number of Retweets."
   ]
  },
  {
   "cell_type": "code",
   "execution_count": 67,
   "metadata": {},
   "outputs": [],
   "source": [
    "punctuation_chars = [\"'\", '\"', \",\", \".\", \"!\", \":\", \";\", '#', '@']\n",
    "\n",
    "# list of positive words to use\n",
    "positive_words = []\n",
    "\n",
    "# populate positive_words list with data in txt file\n",
    "with open(\"positive_words.txt\") as pos_f:\n",
    "    for lin in pos_f:\n",
    "        if lin[0] != ';' and lin[0] != '\\n':\n",
    "            positive_words.append(lin.strip())\n",
    "\n",
    "negative_words = []\n",
    "with open(\"negative_words.txt\") as pos_f:\n",
    "    for lin in pos_f:\n",
    "        if lin[0] != ';' and lin[0] != '\\n':\n",
    "            negative_words.append(lin.strip())\n",
    "\n",
    "# Takes a word as input and removes punctuation in the word itself\n",
    "def strip_punctuation(word):\n",
    "    for char in word:\n",
    "        if char in punctuation_chars:\n",
    "            word = word.replace(char, \"\")\n",
    "    return word\n",
    "\n",
    "# strip_punctuation test cases\n",
    "# print(strip_punctuation(\"#Amazing\"))\n",
    "# print(strip_punctuation(\"wow!\"))\n",
    "# print(strip_punctuation(\"#in.cred..ible!\"))\n",
    "# print(strip_punctuation(\"wonderful \"))\n",
    "\n",
    "# Takes a string (1 or more sentences) & calculates how many words are positive words\n",
    "def get_pos(sentences):\n",
    "    count = 0\n",
    "    # convert to lowercase for comparison\n",
    "    lower_sentences = sentences.lower()\n",
    "    # remember to strip punctuations and split into a list of strings\n",
    "    cleaned_sentences = strip_punctuation(lower_sentences).split(\" \")\n",
    "    for word in cleaned_sentences:\n",
    "        if word in positive_words:\n",
    "            count += 1\n",
    "    return count\n",
    "\n",
    "# get_pos test cases\n",
    "# print(get_pos(\"what a truly wonderful day it is today! #incredible\"))\n",
    "# print(get_pos(\"what a truly Wonderful day it is today! #incredible\"))\n",
    "# print(get_pos(\"what a truly wonderful day it is today\"))\n",
    "\n",
    "# Takes a string (1 or more sentences) & calculates how many words are negative words\n",
    "def get_neg(sentences):\n",
    "    count = 0\n",
    "    # convert to lowercase for comparison\n",
    "    lower_sentences = sentences.lower()\n",
    "    # remember to strip punctuations and split into a list of strings\n",
    "    cleaned_sentences = strip_punctuation(lower_sentences).split(\" \")\n",
    "    for word in cleaned_sentences:\n",
    "        if word in negative_words:\n",
    "            count += 1\n",
    "    return count\n",
    "\n",
    "# get_neg test cases\n",
    "# print(get_neg(\"what a truly wonderful day it is today! #incredible\"))\n",
    "# print(get_neg(\"The weather truely is abnormal - it's october and already snowing!\"))\n",
    "# print(get_neg(\"their departure was rather abrupt. However, it was amusing how aloof they had been.\"))\n",
    "# print(get_neg(\"the weather is what it is.\"))\n",
    "\n",
    "# opens the file project_twitter_data.csv containing fake generated twitter data\n",
    "try:\n",
    "    fh = open(\"project_twitter_data.csv\", \"r\")\n",
    "    lines = fh.readlines()\n",
    "    fh.close()\n",
    "\n",
    "    # create a new file and prepare to write to it\n",
    "    file_out = open(\"resulting_data.csv\", \"w\")\n",
    "\n",
    "    # write header\n",
    "    file_out.write(\"Number of Retweets, Number of Replies, Positive Score, Negative Score, Net Score\\n\")\n",
    "\n",
    "    # ignore the first line (header)\n",
    "    for line in lines[1:]:\n",
    "        # split line into a list of string: tweet text, no. of retweets, no. of replies. use strip() to remove any \\n\n",
    "        splitted = line.split(\",\")\n",
    "        tweet_text = splitted[0].strip()\n",
    "        retweet_count = splitted[1].strip()\n",
    "        replies_count = splitted[2].strip()\n",
    "\n",
    "        # get positive and negative score on the text of the tweet\n",
    "        positive_score = get_pos(tweet_text)\n",
    "        negative_score = get_neg(tweet_text)\n",
    "\n",
    "        # calculate net_score\n",
    "        net_score = positive_score - negative_score\n",
    "\n",
    "        # write to file\n",
    "        file_out.write(str(retweet_count) + \",\" +\n",
    "                       str(replies_count) + \",\" +\n",
    "                       str(positive_score) + \",\" +\n",
    "                       str(negative_score) + \",\" +\n",
    "                       str(net_score) + \"\\n\")\n",
    "\n",
    "    file_out.close()\n",
    "except Exception as ex:\n",
    "    print(\"Unable to open file! \" + str(ex))\n",
    "    quit()"
   ]
  },
  {
   "cell_type": "markdown",
   "metadata": {},
   "source": [
    "# Sentiment Analysis - Generate scatterplot"
   ]
  },
  {
   "cell_type": "code",
   "execution_count": 68,
   "metadata": {},
   "outputs": [],
   "source": [
    "### Plot scatterplot\n",
    "import pandas as pd\n",
    "import matplotlib.pyplot as plt\n",
    "\n",
    "SMALL_SIZE = 8\n",
    "MEDIUM_SIZE = 10\n",
    "BIGGER_SIZE = 16\n",
    "\n",
    "plt.rc('font', size=BIGGER_SIZE)          # controls default text sizes\n",
    "plt.rc('axes', titlesize=BIGGER_SIZE)     # fontsize of the axes title\n",
    "plt.rc('axes', labelsize=BIGGER_SIZE)    # fontsize of the x and y labels\n",
    "plt.rc('xtick', labelsize=BIGGER_SIZE)    # fontsize of the tick labels\n",
    "plt.rc('ytick', labelsize=BIGGER_SIZE)    # fontsize of the tick labels\n",
    "plt.rc('legend', fontsize=BIGGER_SIZE)    # legend fontsize\n",
    "plt.rc('figure', titlesize=BIGGER_SIZE)  # fontsize of the figure title"
   ]
  },
  {
   "cell_type": "code",
   "execution_count": 69,
   "metadata": {},
   "outputs": [
    {
     "data": {
      "image/png": "[encoded data removed]",
      "text/plain": [
       "<Figure size 720x720 with 1 Axes>"
      ]
     },
     "metadata": {
      "needs_background": "light"
     },
     "output_type": "display_data"
    }
   ],
   "source": [
    "df = pd.read_csv(\"resulting_data.csv\")\n",
    "x = df[' Net Score']\n",
    "y = df['Number of Retweets']\n",
    "\n",
    "plt.figure(figsize=(10,10))\n",
    "plt.scatter(x, y, edgecolors='black', color=\"cyan\")\n",
    "plt.xlabel('Net Score')\n",
    "plt.ylabel('Number of Retweets')\n",
    "plt.title('Sentiment Analysis Scatterplot by LIEW ZHI LI')\n",
    "\n",
    "# save image before calling show\n",
    "plt.savefig('plot.png')\n",
    "plt.show()"
   ]
  }
 ],
 "metadata": {
  "kernelspec": {
   "display_name": "Python 3",
   "language": "python",
   "name": "python3"
  },
  "language_info": {
   "codemirror_mode": {
    "name": "ipython",
    "version": 3
   },
   "file_extension": ".py",
   "mimetype": "text/x-python",
   "name": "python",
   "nbconvert_exporter": "python",
   "pygments_lexer": "ipython3",
   "version": "3.8.3"
  }
 },
 "nbformat": 4,
 "nbformat_minor": 4
}
