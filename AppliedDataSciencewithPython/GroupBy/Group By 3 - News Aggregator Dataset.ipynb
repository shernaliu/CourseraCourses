{
 "cells": [
  {
   "cell_type": "markdown",
   "metadata": {},
   "source": [
    "## Example 3: News Aggregator Dataset\n",
    "Now you’ll work with the third and final dataset, which holds metadata on several hundred thousand news articles and groups them into topic clusters:"
   ]
  },
  {
   "cell_type": "code",
   "execution_count": 1,
   "metadata": {},
   "outputs": [],
   "source": [
    "import datetime as dt\n",
    "import pandas as pd\n",
    "\n",
    "def parse_millisecond_timestamp(ts: int) -> dt.datetime:\n",
    "    \"\"\"Convert ms since Unix epoch to UTC datetime instance.\"\"\"\n",
    "    return dt.datetime.fromtimestamp(ts / 1000, tz=dt.timezone.utc)\n",
    "\n",
    "df = pd.read_csv(\n",
    "    \"newsCorpora.csv\",\n",
    "    sep=\"\\t\",\n",
    "    header=None,\n",
    "    index_col=0,\n",
    "    names=[\"title\", \"url\", \"outlet\", \"category\", \"cluster\", \"host\", \"tstamp\"],\n",
    "    parse_dates=[\"tstamp\"],\n",
    "    date_parser=parse_millisecond_timestamp,\n",
    "    dtype={\n",
    "        \"outlet\": \"category\",\n",
    "        \"category\": \"category\",\n",
    "        \"cluster\": \"category\",\n",
    "        \"host\": \"category\",\n",
    "    },\n",
    ")"
   ]
  },
  {
   "cell_type": "code",
   "execution_count": 2,
   "metadata": {},
   "outputs": [
    {
     "data": {
      "text/plain": [
       "title       Fed official says weak data caused by weather,...\n",
       "url         http://www.latimes.com/business/money/la-fi-mo...\n",
       "outlet                                      Los Angeles Times\n",
       "category                                                    b\n",
       "cluster                         ddUyU0VZz0BRneMioxUPQVP6sIxvM\n",
       "host                                          www.latimes.com\n",
       "tstamp                       2014-03-10 16:52:50.698000+00:00\n",
       "Name: 1, dtype: object"
      ]
     },
     "execution_count": 2,
     "metadata": {},
     "output_type": "execute_result"
    }
   ],
   "source": [
    "df.iloc[0]"
   ]
  },
  {
   "cell_type": "code",
   "execution_count": null,
   "metadata": {},
   "outputs": [],
   "source": []
  }
 ],
 "metadata": {
  "kernelspec": {
   "display_name": "Python 3",
   "language": "python",
   "name": "python3"
  },
  "language_info": {
   "codemirror_mode": {
    "name": "ipython",
    "version": 3
   },
   "file_extension": ".py",
   "mimetype": "text/x-python",
   "name": "python",
   "nbconvert_exporter": "python",
   "pygments_lexer": "ipython3",
   "version": "3.8.5"
  }
 },
 "nbformat": 4,
 "nbformat_minor": 4
}
