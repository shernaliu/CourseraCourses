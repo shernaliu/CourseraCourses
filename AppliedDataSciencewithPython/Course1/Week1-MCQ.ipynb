{
 "cells": [
  {
   "cell_type": "code",
   "execution_count": 1,
   "id": "f502cbb5",
   "metadata": {},
   "outputs": [
    {
     "name": "stdout",
     "output_type": "stream",
     "text": [
      "['bat', 'bot']\n"
     ]
    }
   ],
   "source": [
    "# Q1\n",
    "import re\n",
    "string = 'bat, lat, mat, bet, let, met, bit, lit, mit, bot, lot, mot'\n",
    "result = re.findall('b[ao]t', string)\n",
    "print(result)"
   ]
  },
  {
   "cell_type": "code",
   "execution_count": 2,
   "id": "2163ff91",
   "metadata": {},
   "outputs": [],
   "source": [
    "# Q2\n",
    "def l2_dist(a, b):\n",
    "    result = ((a - b) * (a - b)).sum()\n",
    "    result = result ** 0.5\n",
    "    return result "
   ]
  },
  {
   "cell_type": "code",
   "execution_count": 17,
   "id": "5de0c5ad",
   "metadata": {},
   "outputs": [
    {
     "name": "stdout",
     "output_type": "stream",
     "text": [
      "(2, 2)\n",
      "(2, 2)\n",
      "0.0\n",
      "6.324555320336759\n",
      "0.0\n",
      "0.0\n"
     ]
    }
   ],
   "source": [
    "import numpy as np\n",
    "\n",
    "# try with just (2,2)\n",
    "a = np.array([[1,2],[3,4]])    # Create a rank 2 array\n",
    "print(a.shape)                     # Prints \"(2, 3)\"\n",
    "\n",
    "b = np.array([[1,2],[3,4]])   \n",
    "print(b.shape)        \n",
    "\n",
    "op1 = l2_dist(a.T, b.T)\n",
    "print(op1)\n",
    "\n",
    "op2 = l2_dist(np.reshape(a, (2 * 2)), np.reshape(b, (2 * 2, 1)))\n",
    "print(op2)\n",
    "\n",
    "op3 = l2_dist(a, b)\n",
    "print(op3)\n",
    "\n",
    "op4 = l2_dist(np.reshape(a, (2 * 2)), np.reshape(b, (2 * 2)))\n",
    "print(op4)"
   ]
  },
  {
   "cell_type": "code",
   "execution_count": 24,
   "id": "e421a6c6",
   "metadata": {},
   "outputs": [
    {
     "name": "stdout",
     "output_type": "stream",
     "text": [
      "[0.08773372 0.8254211  0.64954951 0.27305675]\n",
      "[[0.55869804]\n",
      " [0.88574898]\n",
      " [0.28461037]\n",
      " [0.16361181]]\n",
      "[[1 2 3 4]]\n",
      "[1 2 3]\n",
      "[1. 2. 3. 4.]\n"
     ]
    },
    {
     "data": {
      "text/plain": [
       "True"
      ]
     },
     "execution_count": 24,
     "metadata": {},
     "output_type": "execute_result"
    }
   ],
   "source": [
    "# Q3\n",
    "a1 = np.random.rand(4)\n",
    "a2 = np.random.rand(4, 1)\n",
    "a3 = np.array([[1, 2, 3, 4]])\n",
    "a4 = np.arange(1, 4, 1)\n",
    "a5 = np.linspace(1 ,4, 4)\n",
    "\n",
    "print(a1)\n",
    "print(a2)\n",
    "print(a3)\n",
    "print(a4)\n",
    "print(a5)\n",
    "\n",
    "# a4.ndim() == 1 # error\n",
    "a5.shape == a1.shape # True\n",
    "# a1.shape == a2.shape # false\n",
    "# a3.shape == a4.shape # false"
   ]
  },
  {
   "cell_type": "code",
   "execution_count": 25,
   "id": "07e68da7",
   "metadata": {},
   "outputs": [
    {
     "name": "stdout",
     "output_type": "stream",
     "text": [
      "[[0 0 1]\n",
      " [1 1 1]]\n"
     ]
    }
   ],
   "source": [
    "# Q4\n",
    "import numpy as np\n",
    "\n",
    "old = np.array([[1, 1, 1], [1, 1, 1]])\n",
    "new = old\n",
    "new[0, :2] = 0\n",
    "\n",
    "print(old)"
   ]
  },
  {
   "cell_type": "code",
   "execution_count": 34,
   "id": "f89eb0f5",
   "metadata": {},
   "outputs": [
    {
     "name": "stdout",
     "output_type": "stream",
     "text": [
      "[[ 0  1  2  3  4  5]\n",
      " [ 6  7  8  9 10 11]\n",
      " [12 13 14 15 16 17]\n",
      " [18 19 20 21 22 23]\n",
      " [24 25 26 27 28 29]\n",
      " [30 31 32 33 34 35]]\n",
      "\n",
      "\n",
      "[[14 15]\n",
      " [20 21]]\n"
     ]
    }
   ],
   "source": [
    "# Q5\n",
    "r = np.array([\n",
    "    [0,1,2,3,4,5],\n",
    "    [6,7,8,9,10,11],\n",
    "    [12,13,14,15,16,17],\n",
    "    [18,19,20,21,22,23],\n",
    "    [24,25,26,27,28,29],\n",
    "    [30,31,32,33,34,35]\n",
    "])\n",
    "\n",
    "print(r)\n",
    "\n",
    "# print('\\n')\n",
    "# print(r[[2,3],[2,3]])\n",
    "\n",
    "# print('\\n')\n",
    "# print(r[[2,4],[2,4]])\n",
    "\n",
    "# print('\\n')\n",
    "# print(r[2:3,2:3])\n",
    "\n",
    "print('\\n')\n",
    "print(r[2:4,2:4])"
   ]
  },
  {
   "cell_type": "code",
   "execution_count": 39,
   "id": "bcc49299",
   "metadata": {},
   "outputs": [
    {
     "name": "stdout",
     "output_type": "stream",
     "text": [
      "['AC']\n"
     ]
    }
   ],
   "source": [
    "# Q6\n",
    "import re \n",
    "s = 'ACBCAC'\n",
    "\n",
    "# op1 = re.findall('[^A]C', s)\n",
    "# print(op1)\n",
    "\n",
    "# op2 = re.findall('^[AC]', s)\n",
    "# print(op2)\n",
    "\n",
    "op3 = re.findall('^AC', s)\n",
    "print(op3)\n",
    "\n",
    "# op4 = re.findall('AC', s)\n",
    "# print(op4)"
   ]
  },
  {
   "cell_type": "code",
   "execution_count": 41,
   "id": "afe837c7",
   "metadata": {},
   "outputs": [
    {
     "data": {
      "text/plain": [
       "5"
      ]
     },
     "execution_count": 41,
     "metadata": {},
     "output_type": "execute_result"
    }
   ],
   "source": [
    "# Q7\n",
    "import re\n",
    "s = 'ACAABAACAAAB'\n",
    "result = re.findall('A{1,2}', s)\n",
    "L = len(result)\n",
    "L"
   ]
  },
  {
   "cell_type": "code",
   "execution_count": 44,
   "id": "49ffe48e",
   "metadata": {},
   "outputs": [
    {
     "name": "stdout",
     "output_type": "stream",
     "text": [
      "[]\n",
      "[]\n",
      "[]\n",
      "['(734) 647-6333', '(734) 647-8044', '(734) 763-2285', '(734) 647-3576', '(734) 763-1251', '(734) 764-9376']\n"
     ]
    }
   ],
   "source": [
    "# Q8\n",
    "text = \"\"\"\n",
    "Office of Research Administration: (734) 647-6333 | 4325 North Quad\n",
    "Office of Budget and Financial Administration: (734) 647-8044 | 309 Maynard, Suite 205\n",
    "Health Informatics Program: (734) 763-2285 | 333 Maynard, Suite 500\n",
    "Office of the Dean: (734) 647-3576 | 4322 North Quad\n",
    "UMSI Engagement Center: (734) 763-1251 | 777 North University\n",
    "Faculty Adminstrative Support Staff: (734) 764-9376 | 4322 North Quad\n",
    "\"\"\"\n",
    "op1 = re.findall('[(]\\d{3}[)]\\d{3}[-]\\d{4}', text)\n",
    "print(op1)\n",
    "\n",
    "op2 = re.findall('\\d{3}\\s\\d{3}[-]\\d{4}', text)\n",
    "print(op2)\n",
    "\n",
    "op3 = re.findall('\\d{3}[-]\\d{3}[-]\\d{4}', text)\n",
    "print(op3)\n",
    "\n",
    "op4 = re.findall('[(]\\d{3}[)]\\s\\d{3}[-]\\d{4}', text)\n",
    "print(op4)"
   ]
  },
  {
   "cell_type": "code",
   "execution_count": 45,
   "id": "77b823f2",
   "metadata": {},
   "outputs": [
    {
     "name": "stdout",
     "output_type": "stream",
     "text": [
      "['google']\n",
      "['']\n",
      "['google.com']\n",
      "['google.com', 'www.baidu.com']\n"
     ]
    }
   ],
   "source": [
    "# Q9\n",
    "text = 'I refer to https://google.com and I never refer http://www.baidu.com if I have to search anything'\n",
    "\n",
    "op1 = re.findall('(?<=https:\\/\\/)([A-Za-z0-9]*)', text)\n",
    "print(op1)\n",
    "\n",
    "op2 = re.findall('(?<=https:\\/\\/)([.]*)', text)\n",
    "print(op2)\n",
    "\n",
    "op3 = re.findall('(?<=https:\\/\\/)([A-Za-z0-9.]*)', text)\n",
    "print(op3)\n",
    "\n",
    "op4 = re.findall('(?<=[https]:\\/\\/)([A-Za-z0-9.]*)', text)\n",
    "print(op4)"
   ]
  },
  {
   "cell_type": "code",
   "execution_count": 50,
   "id": "d78d5e0e",
   "metadata": {},
   "outputs": [
    {
     "name": "stdout",
     "output_type": "stream",
     "text": [
      "4\n"
     ]
    }
   ],
   "source": [
    "# Q10\n",
    "text=r'''Everyone has the following fundamental freedoms:\n",
    "    (a) freedom of conscience and religion;\n",
    "    (b) freedom of thought, belief, opinion and expression, including freedom of the press and other media of communication;\n",
    "    (c) freedom of peaceful assembly; and\n",
    "    (d) freedom of association.'''\n",
    "\n",
    "import re\n",
    "pattern = '\\(.\\)'\n",
    "# pattern = 'freedom'\n",
    "# pattern = '[a-d]'\n",
    "# pattern = '(.)'\n",
    "print(len(re.findall(pattern,text)))"
   ]
  },
  {
   "cell_type": "code",
   "execution_count": null,
   "id": "05d3543e",
   "metadata": {},
   "outputs": [],
   "source": []
  }
 ],
 "metadata": {
  "kernelspec": {
   "display_name": "Python 3",
   "language": "python",
   "name": "python3"
  },
  "language_info": {
   "codemirror_mode": {
    "name": "ipython",
    "version": 3
   },
   "file_extension": ".py",
   "mimetype": "text/x-python",
   "name": "python",
   "nbconvert_exporter": "python",
   "pygments_lexer": "ipython3",
   "version": "3.8.5"
  }
 },
 "nbformat": 4,
 "nbformat_minor": 5
}
