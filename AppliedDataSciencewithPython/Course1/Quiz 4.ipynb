{
 "cells": [
  {
   "cell_type": "markdown",
   "id": "e8f95f31",
   "metadata": {},
   "source": [
    "# Q1\n",
    "\n",
    "Consider the given NumPy arrays a and b. What will be the value of c after the following code is executed?\n",
    "\n"
   ]
  },
  {
   "cell_type": "code",
   "execution_count": 9,
   "id": "a993162e",
   "metadata": {},
   "outputs": [
    {
     "data": {
      "text/plain": [
       "46"
      ]
     },
     "execution_count": 9,
     "metadata": {},
     "output_type": "execute_result"
    }
   ],
   "source": [
    "import numpy as np\n",
    "\n",
    "a = np.arange(8)\n",
    "b = a[4:6]\n",
    "b[:] = 40\n",
    "c = a[4] + a[6]\n",
    "c"
   ]
  },
  {
   "cell_type": "markdown",
   "id": "cbbba4b9",
   "metadata": {},
   "source": [
    "# Q2\n",
    "\n",
    "Given the string s as shown below, which of the following expressions will be True?"
   ]
  },
  {
   "cell_type": "code",
   "execution_count": 10,
   "id": "d6c9b1de",
   "metadata": {},
   "outputs": [],
   "source": [
    "import re\n",
    "s = 'ABCAC'"
   ]
  },
  {
   "cell_type": "code",
   "execution_count": 11,
   "id": "2618779b",
   "metadata": {},
   "outputs": [
    {
     "data": {
      "text/plain": [
       "True"
      ]
     },
     "execution_count": 11,
     "metadata": {},
     "output_type": "execute_result"
    }
   ],
   "source": [
    "# op1\n",
    "bool(re.match('A', s)) == True"
   ]
  },
  {
   "cell_type": "code",
   "execution_count": 12,
   "id": "132c243f",
   "metadata": {},
   "outputs": [
    {
     "data": {
      "text/plain": [
       "False"
      ]
     },
     "execution_count": 12,
     "metadata": {},
     "output_type": "execute_result"
    }
   ],
   "source": [
    "# op2\n",
    "re.match('A', s) == True"
   ]
  },
  {
   "cell_type": "code",
   "execution_count": 13,
   "id": "60d2c14b",
   "metadata": {},
   "outputs": [
    {
     "ename": "TypeError",
     "evalue": "object of type 're.Match' has no len()",
     "output_type": "error",
     "traceback": [
      "\u001b[1;31m---------------------------------------------------------------------------\u001b[0m",
      "\u001b[1;31mTypeError\u001b[0m                                 Traceback (most recent call last)",
      "\u001b[1;32m<ipython-input-13-61564a554a34>\u001b[0m in \u001b[0;36m<module>\u001b[1;34m\u001b[0m\n\u001b[0;32m      1\u001b[0m \u001b[1;31m# op3\u001b[0m\u001b[1;33m\u001b[0m\u001b[1;33m\u001b[0m\u001b[1;33m\u001b[0m\u001b[0m\n\u001b[1;32m----> 2\u001b[1;33m \u001b[0mlen\u001b[0m\u001b[1;33m(\u001b[0m\u001b[0mre\u001b[0m\u001b[1;33m.\u001b[0m\u001b[0msearch\u001b[0m\u001b[1;33m(\u001b[0m\u001b[1;34m'A'\u001b[0m\u001b[1;33m,\u001b[0m \u001b[0ms\u001b[0m\u001b[1;33m)\u001b[0m\u001b[1;33m)\u001b[0m \u001b[1;33m==\u001b[0m \u001b[1;36m2\u001b[0m\u001b[1;33m\u001b[0m\u001b[1;33m\u001b[0m\u001b[0m\n\u001b[0m",
      "\u001b[1;31mTypeError\u001b[0m: object of type 're.Match' has no len()"
     ]
    }
   ],
   "source": [
    "# op3\n",
    "len(re.search('A', s)) == 2\n"
   ]
  },
  {
   "cell_type": "code",
   "execution_count": 14,
   "id": "b992de33",
   "metadata": {},
   "outputs": [
    {
     "data": {
      "text/plain": [
       "False"
      ]
     },
     "execution_count": 14,
     "metadata": {},
     "output_type": "execute_result"
    }
   ],
   "source": [
    "# op4\n",
    "len(re.split('A', s)) == 2\n"
   ]
  },
  {
   "cell_type": "markdown",
   "id": "fe3e0883",
   "metadata": {},
   "source": [
    "# Q3\n",
    "\n",
    "Consider a string s. We want to find all characters (other than A) which are followed by triple A, i.e., have AAA to the right. We don’t want to include the triple A in the output and just want the character immediately preceding AAA . Complete the code given below that would output the required result."
   ]
  },
  {
   "cell_type": "code",
   "execution_count": 16,
   "id": "947dc1c4",
   "metadata": {},
   "outputs": [
    {
     "data": {
      "text/plain": [
       "['C', 'F', 'B']"
      ]
     },
     "execution_count": 16,
     "metadata": {},
     "output_type": "execute_result"
    }
   ],
   "source": [
    "def result():\n",
    "    s = 'ACAABAACAAABACDBADDDFSDDDFFSSSASDAFAAACBAAAFASD'\n",
    "\n",
    "    result = []\n",
    "    # compete the pattern below\n",
    "    pattern = '(\\w)(?=[A]{3})'\n",
    "    for item in re.finditer(pattern, s):\n",
    "      # identify the group number below.\n",
    "      result.append(item.group())\n",
    "      \n",
    "    return result\n",
    "\n",
    "result()"
   ]
  },
  {
   "cell_type": "markdown",
   "id": "ea380b67",
   "metadata": {},
   "source": [
    "# Q4\n",
    "\n",
    "Consider the following 4 expressions regarding the above pandas Series df. All of them have the same value except one expression. Can you identify which one it is?"
   ]
  },
  {
   "cell_type": "code",
   "execution_count": 17,
   "id": "aedcbe72",
   "metadata": {},
   "outputs": [],
   "source": [
    "# df.index[0]"
   ]
  },
  {
   "cell_type": "markdown",
   "id": "cd465306",
   "metadata": {},
   "source": [
    "# Q5 \n",
    "\n",
    "Consider the two pandas Series objects shown above, representing the no. of items of different yogurt flavors that were sold in a day from two different stores, s1 and s2. Which of the following statements is True regarding the Series s3 defined below?"
   ]
  },
  {
   "cell_type": "code",
   "execution_count": 22,
   "id": "279dbe68",
   "metadata": {},
   "outputs": [
    {
     "data": {
      "text/plain": [
       "Mango         20\n",
       "Strawberry    15\n",
       "Blueberry     18\n",
       "Vanilla       31\n",
       "dtype: int64"
      ]
     },
     "execution_count": 22,
     "metadata": {},
     "output_type": "execute_result"
    }
   ],
   "source": [
    "import pandas as pd\n",
    "\n",
    "s1 = pd.Series({'Mango': 20,\n",
    "                  'Strawberry': 15,\n",
    "                  'Blueberry': 18,\n",
    "                  'Vanilla': 31})\n",
    "s1"
   ]
  },
  {
   "cell_type": "code",
   "execution_count": 23,
   "id": "40128414",
   "metadata": {},
   "outputs": [
    {
     "data": {
      "text/plain": [
       "Strawberry     20\n",
       "Vanilla        30\n",
       "Banana         15\n",
       "Mango         210\n",
       "Plain          20\n",
       "dtype: int64"
      ]
     },
     "execution_count": 23,
     "metadata": {},
     "output_type": "execute_result"
    }
   ],
   "source": [
    "s2 = pd.Series({'Strawberry': 20,\n",
    "                  'Vanilla': 30,\n",
    "                  'Banana': 15,\n",
    "                  'Mango': 210,\n",
    "                   'Plain':20})\n",
    "s2"
   ]
  },
  {
   "cell_type": "code",
   "execution_count": 25,
   "id": "f4cd00d0",
   "metadata": {},
   "outputs": [
    {
     "data": {
      "text/plain": [
       "Banana          NaN\n",
       "Blueberry       NaN\n",
       "Mango         230.0\n",
       "Plain           NaN\n",
       "Strawberry     35.0\n",
       "Vanilla        61.0\n",
       "dtype: float64"
      ]
     },
     "execution_count": 25,
     "metadata": {},
     "output_type": "execute_result"
    }
   ],
   "source": [
    "s3 = s1.add(s2)\n",
    "s3"
   ]
  },
  {
   "cell_type": "code",
   "execution_count": 28,
   "id": "2b5284a5",
   "metadata": {},
   "outputs": [
    {
     "data": {
      "text/plain": [
       "True"
      ]
     },
     "execution_count": 28,
     "metadata": {},
     "output_type": "execute_result"
    }
   ],
   "source": [
    "# op1\n",
    "s3['Mango'] >=  s1.add(s2, fill_value = 0)['Mango']"
   ]
  },
  {
   "cell_type": "code",
   "execution_count": 29,
   "id": "db608a4d",
   "metadata": {},
   "outputs": [
    {
     "data": {
      "text/plain": [
       "False"
      ]
     },
     "execution_count": 29,
     "metadata": {},
     "output_type": "execute_result"
    }
   ],
   "source": [
    "# op2\n",
    "s3['Plain'] >= s3['Mango']"
   ]
  },
  {
   "cell_type": "code",
   "execution_count": 31,
   "id": "81603e59",
   "metadata": {},
   "outputs": [
    {
     "data": {
      "text/plain": [
       "False"
      ]
     },
     "execution_count": 31,
     "metadata": {},
     "output_type": "execute_result"
    }
   ],
   "source": [
    "# op3\n",
    "s3['Blueberry'] == s1.add(s2, fill_value = 0)['Blueberry']"
   ]
  },
  {
   "cell_type": "code",
   "execution_count": 32,
   "id": "8cff24e5",
   "metadata": {},
   "outputs": [
    {
     "data": {
      "text/plain": [
       "False"
      ]
     },
     "execution_count": 32,
     "metadata": {},
     "output_type": "execute_result"
    }
   ],
   "source": [
    "# op4\n",
    "s3['Blueberry'] == s1['Blueberry']\n"
   ]
  },
  {
   "cell_type": "markdown",
   "id": "e650982f",
   "metadata": {},
   "source": [
    "# Q6\n",
    "\n",
    "In the following list of statements regarding a DataFrame df, one or more statements are correct. Can you identify all the correct statements?\n",
    "\n",
    "Every time we call df.set_index(), the old index will be discarded.\n",
    "\n",
    "Every time we call df.reset_index(), the old index will be set as a new column.\n",
    "\n",
    "\n",
    "\n"
   ]
  },
  {
   "cell_type": "markdown",
   "id": "3e7df370",
   "metadata": {},
   "source": [
    "# Q7 \n",
    "\n",
    "Consider the Series object S defined below. Which of the following is an incorrect way to slice S such that we obtain all data points corresponding to the indices 'b', 'c', and 'd'?"
   ]
  },
  {
   "cell_type": "code",
   "execution_count": 35,
   "id": "3f17a3d6",
   "metadata": {},
   "outputs": [
    {
     "data": {
      "text/plain": [
       "a    0\n",
       "b    1\n",
       "c    2\n",
       "d    3\n",
       "e    4\n",
       "dtype: int32"
      ]
     },
     "execution_count": 35,
     "metadata": {},
     "output_type": "execute_result"
    }
   ],
   "source": [
    "S = pd.Series(np.arange(5), index=['a', 'b', 'c', 'd', 'e'])\n",
    "S"
   ]
  },
  {
   "cell_type": "code",
   "execution_count": 36,
   "id": "a87865a8",
   "metadata": {},
   "outputs": [
    {
     "data": {
      "text/plain": [
       "b    1\n",
       "c    2\n",
       "d    3\n",
       "e    4\n",
       "dtype: int32"
      ]
     },
     "execution_count": 36,
     "metadata": {},
     "output_type": "execute_result"
    }
   ],
   "source": [
    "# op 1\n",
    "S['b':'e']"
   ]
  },
  {
   "cell_type": "code",
   "execution_count": 37,
   "id": "95054552",
   "metadata": {},
   "outputs": [
    {
     "data": {
      "text/plain": [
       "b    1\n",
       "c    2\n",
       "d    3\n",
       "dtype: int32"
      ]
     },
     "execution_count": 37,
     "metadata": {},
     "output_type": "execute_result"
    }
   ],
   "source": [
    "# op2\n",
    "S[['b', 'c', 'd']]\n"
   ]
  },
  {
   "cell_type": "code",
   "execution_count": 38,
   "id": "5782a6be",
   "metadata": {},
   "outputs": [
    {
     "data": {
      "text/plain": [
       "b    1\n",
       "c    2\n",
       "d    3\n",
       "dtype: int32"
      ]
     },
     "execution_count": 38,
     "metadata": {},
     "output_type": "execute_result"
    }
   ],
   "source": [
    "# op3\n",
    "S[S <= 3][S > 0]\n"
   ]
  },
  {
   "cell_type": "code",
   "execution_count": 39,
   "id": "35973bb9",
   "metadata": {},
   "outputs": [
    {
     "data": {
      "text/plain": [
       "b    1\n",
       "c    2\n",
       "d    3\n",
       "dtype: int32"
      ]
     },
     "execution_count": 39,
     "metadata": {},
     "output_type": "execute_result"
    }
   ],
   "source": [
    "# op4\n",
    "S[1:4]\n"
   ]
  },
  {
   "cell_type": "markdown",
   "id": "d32eda5c",
   "metadata": {},
   "source": [
    "# Q8\n",
    "\n",
    "Consider the DataFrame df shown above with indexes 'R1', 'R2', 'R3', and 'R4'.  In the following code, a new DataFrame df_new is created using df. What will be the value of df_new[1] after the below code is executed?"
   ]
  },
  {
   "cell_type": "code",
   "execution_count": 51,
   "id": "ed78fed9",
   "metadata": {},
   "outputs": [
    {
     "data": {
      "text/html": [
       "<div>\n",
       "<style scoped>\n",
       "    .dataframe tbody tr th:only-of-type {\n",
       "        vertical-align: middle;\n",
       "    }\n",
       "\n",
       "    .dataframe tbody tr th {\n",
       "        vertical-align: top;\n",
       "    }\n",
       "\n",
       "    .dataframe thead th {\n",
       "        text-align: right;\n",
       "    }\n",
       "</style>\n",
       "<table border=\"1\" class=\"dataframe\">\n",
       "  <thead>\n",
       "    <tr style=\"text-align: right;\">\n",
       "      <th></th>\n",
       "      <th>a</th>\n",
       "      <th>b</th>\n",
       "      <th>c</th>\n",
       "    </tr>\n",
       "  </thead>\n",
       "  <tbody>\n",
       "    <tr>\n",
       "      <th>R1</th>\n",
       "      <td>5</td>\n",
       "      <td>6</td>\n",
       "      <td>20</td>\n",
       "    </tr>\n",
       "    <tr>\n",
       "      <th>R2</th>\n",
       "      <td>5</td>\n",
       "      <td>82</td>\n",
       "      <td>28</td>\n",
       "    </tr>\n",
       "    <tr>\n",
       "      <th>R3</th>\n",
       "      <td>71</td>\n",
       "      <td>31</td>\n",
       "      <td>92</td>\n",
       "    </tr>\n",
       "    <tr>\n",
       "      <th>R4</th>\n",
       "      <td>67</td>\n",
       "      <td>37</td>\n",
       "      <td>49</td>\n",
       "    </tr>\n",
       "  </tbody>\n",
       "</table>\n",
       "</div>"
      ],
      "text/plain": [
       "     a   b   c\n",
       "R1   5   6  20\n",
       "R2   5  82  28\n",
       "R3  71  31  92\n",
       "R4  67  37  49"
      ]
     },
     "execution_count": 51,
     "metadata": {},
     "output_type": "execute_result"
    }
   ],
   "source": [
    "df = pd.DataFrame({'a':[5,5,71,67],\n",
    "                  'b':[6,82,31,37],\n",
    "                  'c':[20,28,92,49]}, index=['R1', 'R2', 'R3', 'R4'])\n",
    "df"
   ]
  },
  {
   "cell_type": "code",
   "execution_count": 53,
   "id": "166afa23",
   "metadata": {},
   "outputs": [
    {
     "data": {
      "text/plain": [
       "a     76\n",
       "b     88\n",
       "c    112\n",
       "dtype: int64"
      ]
     },
     "execution_count": 53,
     "metadata": {},
     "output_type": "execute_result"
    }
   ],
   "source": [
    "f = lambda x: x.max() + x.min()\n",
    "df_new = df.apply(f)\n",
    "df_new"
   ]
  },
  {
   "cell_type": "markdown",
   "id": "143e8334",
   "metadata": {},
   "source": [
    "Remember, when a lambda function is applied to df and the value of axis is not indicated, by default the function will be applied to the columns of the DataFrame. To use the function on rows instead of columns, you need to specify axis = 'columns' or axis = 1. "
   ]
  },
  {
   "cell_type": "code",
   "execution_count": 45,
   "id": "4c300f56",
   "metadata": {},
   "outputs": [],
   "source": [
    "# ans: 87 (WRONG)"
   ]
  },
  {
   "cell_type": "code",
   "execution_count": null,
   "id": "287034bf",
   "metadata": {},
   "outputs": [],
   "source": [
    "# ans: 88"
   ]
  },
  {
   "cell_type": "markdown",
   "id": "8171eff0",
   "metadata": {},
   "source": [
    "# Q9\n",
    "\n",
    "Consider the DataFrame named new_df shown above. Which of the following expressions will output the result (showing the head of a DataFrame) below? "
   ]
  },
  {
   "cell_type": "code",
   "execution_count": 43,
   "id": "7a5cf54c",
   "metadata": {},
   "outputs": [],
   "source": [
    "# new_df.unstack() (WRONG)"
   ]
  },
  {
   "cell_type": "markdown",
   "id": "3e64c617",
   "metadata": {},
   "source": [
    "When we unstack the new_df, we will move the inner most row to the lowermost column, as a result, we will have no index in the row, and get a Series."
   ]
  },
  {
   "cell_type": "code",
   "execution_count": 54,
   "id": "572d86d4",
   "metadata": {},
   "outputs": [],
   "source": [
    "# new_df.stack() (WRONG)"
   ]
  },
  {
   "cell_type": "markdown",
   "id": "8cb01b9c",
   "metadata": {},
   "source": [
    "When we stack the new_df, we will move the lowermost column to the inner most row. So we will get a dataframe with multiple index 'country' and 'Rank_Level'."
   ]
  },
  {
   "cell_type": "code",
   "execution_count": null,
   "id": "ddd20cd2",
   "metadata": {},
   "outputs": [],
   "source": [
    "#new_df.stack().stack(WRONG)"
   ]
  },
  {
   "cell_type": "markdown",
   "id": "95549f7b",
   "metadata": {},
   "source": [
    "When we stack the new_df twice, we will move both two column index to row, as a result, we will get a Series."
   ]
  },
  {
   "cell_type": "code",
   "execution_count": 55,
   "id": "dd314a06",
   "metadata": {},
   "outputs": [],
   "source": [
    "# new_df.unstack().unstack() (CORRECT)"
   ]
  },
  {
   "cell_type": "markdown",
   "id": "813d2da3",
   "metadata": {},
   "source": [
    "When we unstack the new_df first time, we will get a Series with triple row index, when we unstack this Series again, the inner most row, which is actually the previous country, will be moved to the column index again."
   ]
  },
  {
   "cell_type": "markdown",
   "id": "c54c0ac0",
   "metadata": {},
   "source": [
    "# Q10\n",
    "\n",
    "Consider the DataFrame df shown above. What will be the output (rounded to the nearest integer) when the following code related to df is executed:"
   ]
  },
  {
   "cell_type": "markdown",
   "id": "3243e8e1",
   "metadata": {},
   "source": [
    "Groupby will create two groups from this df which correspond to item_1 and item_2. Calling sum() will add the quantities sold for each item across all 3 stores (A, B and C). iloc[0] will get the first row, which corresponds to item_1 and the sum of 'Quantity sold' values for item_1 will be calculated ignoring NaN, which comes out to be 30. "
   ]
  },
  {
   "cell_type": "code",
   "execution_count": 44,
   "id": "dd396d4e",
   "metadata": {},
   "outputs": [],
   "source": [
    "# ans: 30"
   ]
  },
  {
   "cell_type": "code",
   "execution_count": null,
   "id": "5a024744",
   "metadata": {},
   "outputs": [],
   "source": []
  }
 ],
 "metadata": {
  "kernelspec": {
   "display_name": "Python 3",
   "language": "python",
   "name": "python3"
  },
  "language_info": {
   "codemirror_mode": {
    "name": "ipython",
    "version": 3
   },
   "file_extension": ".py",
   "mimetype": "text/x-python",
   "name": "python",
   "nbconvert_exporter": "python",
   "pygments_lexer": "ipython3",
   "version": "3.8.5"
  }
 },
 "nbformat": 4,
 "nbformat_minor": 5
}
